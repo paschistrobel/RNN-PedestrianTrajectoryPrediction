{
 "cells": [
  {
   "cell_type": "code",
   "execution_count": null,
   "id": "e4a7ed81-94ed-48c7-af50-931e2214919b",
   "metadata": {},
   "outputs": [],
   "source": [
    "# Benötigte Imports\n",
    "import os\n",
    "import pandas as pd\n",
    "import matplotlib.pyplot as plt\n",
    "import numpy as np\n",
    "from sklearn.preprocessing import StandardScaler, MinMaxScaler, RobustScaler\n",
    "from tensorflow import keras\n",
    "from tensorflow.python.keras.models import Sequential\n",
    "from tensorflow.python.keras.layers import Dense, CuDNNLSTM, LSTM\n",
    "# CuDNNLSTM unterschied zu LSTM: https://stackoverflow.com/questions/49987261/what-is-the-difference-between-cudnnlstm-and-lstm-in-keras\n",
    "# CuDNN ist schneller, man hat allerdings nicht so viele anpassungsmöglichkeiten\n",
    "from tensorflow.python.keras.optimizers import adam_v2\n",
    "from tensorflow.python.keras.metrics import RootMeanSquaredError"
   ]
  },
  {
   "cell_type": "markdown",
   "id": "6fe03195-1f85-4d7d-b04b-0c4d6a28f551",
   "metadata": {},
   "source": [
    "# 0. Daten vorbereiten"
   ]
  },
  {
   "cell_type": "markdown",
   "id": "dd7aaa2a-e686-48b1-ab9f-fc70d839f811",
   "metadata": {},
   "source": [
    "Bevor wir mit unseren Daten arbeiten können, müssen wir diese erst einmal vorbereiten. Darunter fällt das **Einlesen**, das **Vereinheitlichen von Timestamps und Fußgänger-IDs**, das **Berechnen der Delta-Werte** für die x- und y-Position zwischen zwei Zeitschritten, sowie das **Aufteilen in Trainings-, Validierungs- und Testdaten**.\n",
    "\n",
    "*Anmerkung: Der Code zur Datenvorbereitung ist im separaten Notebook \"DataPreparation.ipynb\" zu finden. Der Code für alle Plotting-Methoden ist im separaten Notebook \"Plotting.ipynb\" zu finden.*"
   ]
  },
  {
   "cell_type": "code",
   "execution_count": null,
   "id": "716fb9c5-e3f7-4b37-b38b-85f09850a19c",
   "metadata": {},
   "outputs": [],
   "source": [
    "path_train = \"Data/datasplits/traindata.csv\" # Pfad zu den Trainingsdaten\n",
    "path_test = \"Data/datasplits/testdata.csv\" # Pfad zu den Testdaten\n",
    "path_valid = \"Data/datasplits/validationdata.csv\" # Pfad zu den Validierungsdaten\n",
    "\n",
    "# Datenvorbereitung wird nur einmal ausgeführt; Sobald Daten bereits gesplittet und als CSV-Dateien abgespeichert wurden, werden diese einfach nur eingelesen\n",
    "# Um einen neuen Datensplit zu erhalten, einfach die CSV-Dateien aus dem Ordner \"Data/datasplits\" entfernen\n",
    "if not os.path.exists(path_train) or not os.path.exists(path_test) or not os.path.exists(path_valid):\n",
    "    # Eine genauere Beschreibung, was bei der Vorbereitung der Daten passiert, ist in der Datei \"DataPreparation.ipynb\" selbst zu finden\n",
    "    %run DataPreparation.ipynb\n",
    "    \n",
    "# Das Plotting-Notebook enthält alle benötigten Funktionen für die im Folgenden erstellten Plots\n",
    "%run Plotting.ipynb\n",
    "\n",
    "# Einlesen von Trainings- und Testdaten\n",
    "df_train = pd.read_csv(path_train, sep=\",\")\n",
    "df_test = pd.read_csv(path_test, sep=',')\n",
    "df_valid = pd.read_csv(path_valid, sep=\",\")"
   ]
  },
  {
   "cell_type": "markdown",
   "id": "6a6b2399-8a5a-4ba4-bcea-5b3dcb9172a3",
   "metadata": {},
   "source": [
    "Hier ein kurzer Einblick in unsere aufbereiteten Trainingsdaten..."
   ]
  },
  {
   "cell_type": "code",
   "execution_count": null,
   "id": "1c26cde3-adc7-4691-be35-9da3d6cef4df",
   "metadata": {},
   "outputs": [],
   "source": [
    "df_valid"
   ]
  },
  {
   "cell_type": "code",
   "execution_count": null,
   "id": "15946f28-a44c-4300-b3f8-5987b1c44169",
   "metadata": {},
   "outputs": [],
   "source": [
    "df_train"
   ]
  },
  {
   "cell_type": "markdown",
   "id": "15fa7aeb-3c42-4ed6-820c-459299657f81",
   "metadata": {},
   "source": [
    "# 1. Daten vorverarbeiten"
   ]
  },
  {
   "cell_type": "markdown",
   "id": "cc2a8a08-b6ba-45ab-a2e7-ca3944068bfd",
   "metadata": {},
   "source": [
    "## 1.1 Entfernen redundanter Daten"
   ]
  },
  {
   "cell_type": "markdown",
   "id": "6404ad6a-e4a5-4ab7-a3da-20a08d7529fa",
   "metadata": {},
   "source": [
    "Als erstes werden nicht benötigte Daten von unserem Trainingsdatensatz entfernt. In unserem Fall können wir **alle ersten Zeitschritte eines Datenpunktes** (besteht aus insgesamt 20 Zeitschritten) entfernen. Da für die ersten X- und Y- Positionen noch kein Delta-Wert berechnet werden kann, ist dx und dy für den ersten Zeitschritt somit immer = 0 und daher nicht aussagekräftig. \n",
    "\n",
    "Erinnerung: Die eigentliche Aufgabe ist es, mithilfe der ersten 8 Positionsdaten die nächsten 12 vorherzusagen. D. h. aus den ersten 8 Positionen erhalten wir 7 Delta-X und Delta-Y Werte. Und genau mit diesen 7 Delta-Werten werden wir später eine (bzw. mehrere) Vorhersagen treffen."
   ]
  },
  {
   "cell_type": "code",
   "execution_count": null,
   "id": "eb0207d5-8850-4d51-9f24-eeed90b93978",
   "metadata": {},
   "outputs": [],
   "source": [
    "# Entfernen aller ersten Zeitschritte eines Datenpunktes\n",
    "df_train = df_train.drop(df_train[df_train.Timestamp == 1].index)\n",
    "df_valid = df_valid.drop(df_valid[df_valid.Timestamp == 1].index)"
   ]
  },
  {
   "cell_type": "markdown",
   "id": "68f53fb0-88db-4dc5-9929-c52d794ed92a",
   "metadata": {},
   "source": [
    "## 1.2 Standardisieren"
   ]
  },
  {
   "cell_type": "markdown",
   "id": "6dc77bd3-a783-4929-a58d-ccb0acc55a69",
   "metadata": {},
   "source": [
    "Als nächstes werden die Trainingsdaten und die Valiedierungsdaten skaliert. Dazu wird der StandardScaler von Scikitlearn verwendet und auf die Trainingsdaten gefittet. \n",
    "\n",
    "*Anmerkung: Um **Data Leakage** zu vermeiden, wurden die Daten zuerst in Trainings-, Test- und Validierungsdaten aufgeteilt. Erst dann wurde ein Scaler erstellt und **nur** auf die Trainingsdaten gefittet. Um die Daten der anderen zwei Datesätze zu skalieren, wird dann der mit den Trainingsdaten gefittete Scaler verwendet.*"
   ]
  },
  {
   "cell_type": "code",
   "execution_count": null,
   "id": "34182fd7-a844-4cd5-a430-844fd66c44c6",
   "metadata": {},
   "outputs": [],
   "source": [
    "# Skalieren der Trainingsdaten\n",
    "# scaler = MinMaxScaler(feature_range = (-1,1))\n",
    "# scaler = RobustScaler()\n",
    "scaler = StandardScaler()\n",
    "features = df_train[[\"dx\", \"dy\"]] # Features auswählen, die skaliert werden sollen\n",
    "scaler.fit(features)\n",
    "df_train[\"dx_scaled\"] = 0 # neue Spalte für skalierte dx-Werte erstellen und mit 0 initialisieren\n",
    "df_train[\"dy_scaled\"] = 0 # neue Spalte für skalierte dy-Werte erstellen und mit 0 initialisieren\n",
    "df_train[[\"dx_scaled\", \"dy_scaled\"]] = scaler.transform(features) # dx und dy skalieren und in den entsprechenden Spalten ablegen\n",
    "\n",
    "# Skalieren der Validierungsdaten\n",
    "features = df_valid[[\"dx\", \"dy\"]]\n",
    "df_valid[\"dx_scaled\"] = 0 # neue Spalte für skalierte dx-Werte erstellen und mit 0 initialisieren\n",
    "df_valid[\"dy_scaled\"] = 0 # neue Spalte für skalierte dy-Werte erstellen und mit 0 initialisieren\n",
    "df_valid[[\"dx_scaled\", \"dy_scaled\"]] = scaler.transform(features) # dx und dy skalieren und in den entsprechenden Spalten ablegen"
   ]
  },
  {
   "cell_type": "markdown",
   "id": "51704a75-5be0-4256-a58e-ebb0e0037dfe",
   "metadata": {},
   "source": [
    "Hier ein kleines Zwischenupdate, wie unsere Testdaten inzwischen aussehen..."
   ]
  },
  {
   "cell_type": "code",
   "execution_count": null,
   "id": "1998bd9d-ad82-472f-b7f0-1bbdb1b7f244",
   "metadata": {},
   "outputs": [],
   "source": [
    "df_train"
   ]
  },
  {
   "cell_type": "markdown",
   "id": "cdb497bc-eae1-4c43-953f-9c8c7b736a46",
   "metadata": {},
   "source": [
    "## 1.3 Transformieren"
   ]
  },
  {
   "cell_type": "markdown",
   "id": "73311a62-b49a-4387-be85-4db814ec2642",
   "metadata": {},
   "source": [
    "In der aktuellen Form, in der unsere Daten vorliegen, können wir sie allerdings nicht in ein RNN der Keras-Library einfüttern. Das vorgeschriebene Format für die Daten sieht nämlich folgendermaßen aus: **[samples, timesteps, features]**. In unserem Fall ist timesteps = 7 und features = 2, da wir eine Zeitreihe mit 7 Delta-Werten mit je zwei Features (dx und dy) zur Vorhersage nutzen wollen. \n",
    "\n",
    "Außerdem soll die Vorhersage der 12 zukünftigen Positionen **rekursiv** erfolgen. D. h. unser NN gibt uns für 7 gegebene Delta-Werte nur den nächsten vorhergesagten Delta-Wert zurück, welcher dann für die nächste Vorhersage wiederum mit einbezogen wird usw. \n",
    "\n",
    "Das bedeutet, jeder einzelne Datenpunkte unserer Trainingsdaten kann in 12 weitere Trainingssamples aufgeteilt werden. Im folgenden wird diese Transformation für die Trainings- und die Validierungsdaten durchgeführt."
   ]
  },
  {
   "cell_type": "code",
   "execution_count": null,
   "id": "308aad9d-4ceb-4f50-ab3f-4f31a8c16697",
   "metadata": {},
   "outputs": [],
   "source": [
    "sequence_length = 7 # Anhand von 7 dx und dy Werten (welche aus 8 Zeitschritten entstanden sind) soll der nächste Delta-Wert vorausgesagt werden\n",
    "\n",
    "# teilt die Trainingsdaten so auf, dass aus jedem Datenpunkt (bestehend aus 20 Zeitschritten/ bzw. 19, da der erste ja entfernt wurde) 12 \n",
    "# Trainingssamples (jeweils 7 dx und dy und ein erwarteter dx und dy Wert) entstehen und bringt die Trainingsdaten in ein passendes Format für das neuronale Netzt\n",
    "def transform_data_for_rnn(df, sequence_length):\n",
    "    ids = np.array(df.ID.unique())\n",
    "    x, y = [], []\n",
    "    for id in ids: # über jeden einzelnen Datenpunkt iterieren\n",
    "        df_current = df[df.ID == id] # einzelnen Datenpunkt herausgreifen und diesen dann in weitere Datenpunkte aufteilen\n",
    "        feature_data = np.array(df_current[['dx_scaled', 'dy_scaled']])\n",
    "        for i in range(sequence_length, feature_data.shape[0]): # einen Datenpunkt in 12 Samples aufteilen\n",
    "            x.append(feature_data[i-sequence_length:i,:]) # enthält 7 dx und dy Werte für die Prädiktion\n",
    "            y.append(feature_data[i, :]) # enthält den erwarteten dx und dy Wert, der mit den anderen 7 Deltas vorhergesagt werden soll\n",
    "    x = np.array(x)\n",
    "    y = np.array(y)\n",
    "    return x, y\n",
    "\n",
    "x_train, y_train = transform_data_for_rnn(df_train, sequence_length) # Trainingsdaten, die in das RNN eingefüttert werden und zugehörige Ground Trouth-Werte\n",
    "x_valid, y_valid = transform_data_for_rnn(df_valid, sequence_length) # Validierungsdaten, die in das RNN eingefüttert werden und zugehörige Ground Trouth-Werte"
   ]
  },
  {
   "cell_type": "markdown",
   "id": "61138df5-addc-42d3-ab72-917d63258884",
   "metadata": {},
   "source": [
    "Die Trainings- und Validierungsdaten haben also nun die gewünschte Form..."
   ]
  },
  {
   "cell_type": "code",
   "execution_count": null,
   "id": "4718b3fa-3d42-4caf-b9e4-6e575dce8a93",
   "metadata": {},
   "outputs": [],
   "source": [
    "print(\"Form der Trainingsdaten: \", x_train.shape, y_train.shape)\n",
    "print(\"Form der Validierungsdaten: \", x_valid.shape, y_valid.shape)"
   ]
  },
  {
   "cell_type": "markdown",
   "id": "27504b54-38e6-4144-bebd-9d1385563ea5",
   "metadata": {},
   "source": [
    "# 2. Neuronales Netz erstellen und trainieren"
   ]
  },
  {
   "cell_type": "markdown",
   "id": "61a9fb57-a8a9-4e11-897d-a62f933eb45b",
   "metadata": {},
   "source": [
    "## 2.1 Erstellen des Models"
   ]
  },
  {
   "cell_type": "markdown",
   "id": "d5810981-7066-4682-85d8-48351bedc7bb",
   "metadata": {},
   "source": [
    "Nachdem die Daten nun fertig vorverarbeitet sind, kann man sich dem eigentlichen NN widmen. Zunächst wird das neuronale Netz mit all seinen Layern und Parametern erstellt.\n",
    "\n",
    "*Anmerkung: Eine präzisere Erklärung der verwendeten Layer, Regularisierungstechniken etc. wird in der Projektdokumentation gegeben.*"
   ]
  },
  {
   "cell_type": "code",
   "execution_count": null,
   "id": "4e20ce6c-8671-4280-9dd4-94418a1cebcb",
   "metadata": {},
   "outputs": [],
   "source": [
    "model = Sequential()\n",
    "# benötigter Input Shape: (samples, timesteps, features) --> samples-Achse muss nicht angegeben werden, sondern man kann beliebig viele samples einfüttern\n",
    "model.add(LSTM(units = 10, dropout = 0.2, activation = \"relu\", return_sequences = False, input_shape = (x_train.shape[1], x_train.shape[2]))) \n",
    "#model.add(LSTM(units = 14, dropout = 0.2, return_sequences = False)) \n",
    "#model.add(Dense(units = 7))\n",
    "model.add(Dense(units = 2)) # default activation function = 'linear'\n",
    "print(model.summary())"
   ]
  },
  {
   "cell_type": "markdown",
   "id": "383edf47-58ca-4ed9-932c-6fd30831042a",
   "metadata": {},
   "source": [
    "## 2.2 Trainieren des Models"
   ]
  },
  {
   "cell_type": "markdown",
   "id": "96ea6a1b-519d-4fa7-b951-f10284afdaee",
   "metadata": {},
   "source": [
    "Das erstellte Model wird nun kompiliert und mithilfe der Trainingsdaten trainiert. Zusätzlich werden beim Kompilieren die Lernrate, die Anzahl der Epochen, sowie die verwendete Loss-Funktion und Metrik festgelegt."
   ]
  },
  {
   "cell_type": "code",
   "execution_count": null,
   "id": "87c9cc43-a15a-47e0-90f9-ab1591da94a6",
   "metadata": {},
   "outputs": [],
   "source": [
    "opt = adam_v2.Adam(learning_rate=0.001) # decay=lr/epochs)\n",
    "model.compile(loss = 'mse', optimizer = opt, metrics = ['mae'])\n",
    "history = model.fit(x = x_train, y = y_train, epochs = 5, validation_data=(x_valid, y_valid), batch_size = 16, shuffle = True)"
   ]
  },
  {
   "cell_type": "markdown",
   "id": "e80d0446-913c-4fbb-aa71-53237e7b1444",
   "metadata": {},
   "source": [
    "Der Verlauf der Loss-Funktion, sowie die Performance sieht für das Model folgendermaßen aus:"
   ]
  },
  {
   "cell_type": "code",
   "execution_count": null,
   "id": "7d74b195-1e41-4d69-87e8-f6094af6dc37",
   "metadata": {},
   "outputs": [],
   "source": [
    "plot_model_loss(history, 5)\n",
    "plot_model_metric(history, 5)"
   ]
  },
  {
   "cell_type": "markdown",
   "id": "76308037-7091-458d-8091-7ab4c277ea3e",
   "metadata": {},
   "source": [
    "# 3. Vorhersage von zukünftigen Deltas/ Positionen"
   ]
  },
  {
   "cell_type": "markdown",
   "id": "e3dd17f2-8442-4fb3-ac68-595b701e5257",
   "metadata": {},
   "source": [
    "Das neuronale Netz ist nun fertig trainiert und kann nun anhand von 7 gegebenen Delta-Werten **einen** nächsten Delta-Wert für x- und y-Koordinate vorhersagen. Die folgenden Methoden ermöglichen es, den vorhergesagten Wert für eine erneute Prädiktion mit einzubeziehen, sodass die n nächsten Deltas vorhergesagt werden können. Außerdem werden mithilfe der Delta-Werte auch gleich die erwarteten X- und Y-Positionen der Fußgänger berechnet, um so die eigentliche Trajektorie bestimmen zu können."
   ]
  },
  {
   "cell_type": "code",
   "execution_count": null,
   "id": "b0bb9e80-113f-40f1-8570-5187ce04ecca",
   "metadata": {},
   "outputs": [],
   "source": [
    "# verschiebt die Werte des Arrays um eins nach vorne und hängt den vorhergesagten Delta-Wert hinten an (erster Wert wird entfernt)\n",
    "# Prinzip: aus [1, 2, 3, 4] und [5] wird [2, 3, 4, 5]\n",
    "# current_deltas braucht Shape (1, 7, 2) und predicted_deltas (1, 2)\n",
    "def shift_deltas(current_deltas, predicted_delta):\n",
    "    new_deltas = np.reshape(current_deltas, (7,2))\n",
    "    new_deltas = np.delete(new_deltas, 0, axis=0) # ersten Wert der gegebenen Werte entfernen\n",
    "    new_deltas = np.append(new_deltas, predicted_delta , axis=0) # predicteten Wert für nächste Vorhersage anhängen\n",
    "    return np.array([new_deltas])\n",
    "\n",
    "# Methode, die iterative die nächsten n Positionen bestimmt\n",
    "# given_deltas = start_deltas = die Deltas der ersten 8 Positionen, mit denen die nächsten n Positionen vorhergesagt werden sollen\n",
    "# x_pos = x-Koordinaten Startwert = letzter gemessener x-Wert, bevor die Prädiktion startet\n",
    "# y_pos = y-Koordinaten Startwert = letzter gemessener y-Wert, bevor die Prädiktion startet\n",
    "def predict_next_n_steps(n, given_deltas, x_pos, y_pos):\n",
    "    pred_dx_values = [] # vorhergesagte Delta-x Werte\n",
    "    pred_dy_values = [] # vorhergesagte Delta-y Werte\n",
    "    pred_x_pos = [] # vorhergesagte x Koordinaten\n",
    "    pred_y_pos = [] # vorhergesagte y Koordinaten  \n",
    "    for i in range(0, n): \n",
    "        pred_value = model.predict(given_deltas) # nächsten Wert anhand der aktuellen 7 Deltas vorhersagen --> pred_value hat die Form [[dx dy]]\n",
    "        pred_value_unscaled = scaler.inverse_transform(pred_value) # Ergebnis zurückskalieren, um tatsächliche Delta-Werte zu erhalten\n",
    "        given_deltas = shift_deltas(given_deltas, pred_value) # Vorhergesagten Delta-Wert zur Liste für die nächste Prädiktion hinzufügen\n",
    "        pred_dx = round(pred_value_unscaled[0, 0], 3) # herausholen des vorhergesagten dx Wertes aus dem Array\n",
    "        pred_dy = round(pred_value_unscaled[0, 1], 3) # herausholen des vorhergesagten dy Wertes aus dem Array        \n",
    "        x_pos = round(x_pos + pred_dx, 3)\n",
    "        y_pos = round(y_pos + pred_dy, 3)\n",
    "        # berechneten Werte für dx, dy, xPos und yPos an die jeweilige Ergebnisliste anhängen\n",
    "        pred_dx_values.append(pred_dx)\n",
    "        pred_dy_values.append(pred_dy)\n",
    "        pred_x_pos.append(x_pos)\n",
    "        pred_y_pos.append(y_pos)\n",
    "    return pred_dx_values, pred_dy_values, pred_x_pos, pred_y_pos"
   ]
  },
  {
   "cell_type": "markdown",
   "id": "634f6c60-5408-43bd-83cf-af921aefd9f3",
   "metadata": {},
   "source": [
    "Mithilfe der obigen Methoden können jetzt für jeden Fußgänger des Testdatensatzes die nächsten 12 dx und dy Werte, sowie die entsprechenden x- und y-Positionen vorhergesagt werden. Genau dies wird in folgendem Codeblock getätigt."
   ]
  },
  {
   "cell_type": "code",
   "execution_count": null,
   "id": "d38a4d0b-cafe-419d-85ea-06852c456f1e",
   "metadata": {},
   "outputs": [],
   "source": [
    "forecast_range = 12 # Anzahl der Positionen, die vorhergesagt werden sollen\n",
    "\n",
    "predicted_dx_values = []\n",
    "predicted_dy_values = []\n",
    "predicted_x_pos = []\n",
    "predicted_y_pos = []\n",
    "\n",
    "ids_test =  np.array(df_test.ID.unique())\n",
    "progress = 1\n",
    "\n",
    "for id in ids_test: \n",
    "    print(\"Fortschritt: \", progress, \"/\", len(ids_test), end='\\r')\n",
    "    progress += 1\n",
    "    # Aktuellen Datenpunkt mithilfe der ID auswählen\n",
    "    current_datapoint = df_test[df_test.ID == id]\n",
    "    given_data = current_datapoint[current_datapoint.Timestamp <= 8] # ersten 8 Positionen sind gegeben, die nächsten 12 sollen vorhergesagt werden\n",
    "    \n",
    "    # anhängen der ersten 8 gegebenen Werte an die Trajektorien-Resultat-Listen\n",
    "    predicted_dx_values.extend(given_data['dx'].tolist())\n",
    "    predicted_dy_values.extend(given_data['dy'].tolist())\n",
    "    predicted_x_pos.extend(given_data['X'].tolist())\n",
    "    predicted_y_pos.extend(given_data['Y'].tolist())\n",
    "    \n",
    "    # von den gegebenen 8 Punkten die 7 Deltas extrahieren und basierend auf diesen die Vorhersagen machen\n",
    "    given_deltas = given_data.drop(given_data[given_data.Timestamp == 1].index) # ersten Delta-Wert für die vorhersage entfernen (da dieser sowieso immer 0 ist)\n",
    "    given_deltas = np.array(scaler.transform(given_deltas[['dx', 'dy']])) # skalieren der Daten + Umwandeln in Numpy-Array\n",
    "    given_deltas = np.reshape(given_deltas, (1, 7, 2)) # daten in korrekte Form bringen, damit man sie in das NN einfütter kann\n",
    "    \n",
    "    # Positionen des Fußgängers holen, an der er sich am Ende der beobachteten Zeit befindet --> = Startkoordinaten für die Prädiktion\n",
    "    start_x = predicted_x_pos[-1]\n",
    "    start_y = predicted_y_pos[-1]\n",
    "    \n",
    "    # nächsten n Positionen vorhersagen\n",
    "    pred_dx, pred_dy, pred_x, pred_y = predict_next_n_steps(forecast_range, given_deltas, start_x, start_y)\n",
    "    \n",
    "    predicted_dx_values.extend(pred_dx)\n",
    "    predicted_dy_values.extend(pred_dy)\n",
    "    predicted_x_pos.extend(pred_x)\n",
    "    predicted_y_pos.extend(pred_y)"
   ]
  },
  {
   "cell_type": "markdown",
   "id": "c77aa64d-1c0d-4a56-8ba1-2b4ac3a4385b",
   "metadata": {},
   "source": [
    "Die vorhergesagten Ergebnisse für die Delta-Werte, sowie die vorhergesagten x- und y-Positionen werden an das DataFrame der Testdaten angehängt. "
   ]
  },
  {
   "cell_type": "code",
   "execution_count": null,
   "id": "827d8881-bfb1-42c7-95e2-6eca183bfba8",
   "metadata": {},
   "outputs": [],
   "source": [
    "# Erstellen Listen als Spalten an das Test-Dataframe anhängen\n",
    "df_test[\"predicted_dx\"] = predicted_dx_values\n",
    "df_test[\"predicted_dy\"] = predicted_dy_values\n",
    "df_test[\"predicted_x\"] = predicted_x_pos\n",
    "df_test[\"predicted_y\"] = predicted_y_pos\n",
    "print(df_test.head(20))\n",
    "df_test.to_csv(\"test.csv\", sep='\\t', index = False)"
   ]
  },
  {
   "cell_type": "markdown",
   "id": "b5a3e11b-2cf4-4596-8f43-e9a2be62d990",
   "metadata": {},
   "source": [
    "# 4. Bewertung der Performance"
   ]
  },
  {
   "cell_type": "markdown",
   "id": "4322d808-640e-4e5a-bba6-e8d7c543537c",
   "metadata": {},
   "source": [
    "Zur Bewertung der Performance unseres trainierten neuronalen Netzes werden die zwei in der Literatur gängigen Metriken \"**Average Displacement Error (ADE)**\" und \"**Final Displacement Error (FDE)**\" herangezogen. Die zwei Metriken lassen sich mit derselben Funktion berechnen, der einzige Unterschied liegt in den übergebenen Daten für die Berechnung."
   ]
  },
  {
   "cell_type": "code",
   "execution_count": null,
   "id": "9398b555-d075-4759-9b07-1630c33e111e",
   "metadata": {},
   "outputs": [],
   "source": [
    "# Berechnen des Displacement Errors\n",
    "# true_pos und pred_pos = Tatsächliche Positionen bzw. vorhergesagte Positionen | Numpy-Arrays der Form [[x1 y1],[x2 y2], ...]\n",
    "def calc_displacement_error(true_pos, pred_pos):\n",
    "    if (len(true_pos) != len(pred_pos)):\n",
    "        print(\"Listen haben unterschiedliche Länge, Displacement Error kann nicht berechnet werden!\")\n",
    "        return\n",
    "    n = len(true_pos) # Datenanzahl\n",
    "    sum_of_euclid_distances = 0 # Summe der euklidischen Distanzen der Punkte\n",
    "    for i in range (0, n):\n",
    "        sum_of_euclid_distances += np.linalg.norm(true_pos[i] - pred_pos[i])\n",
    "    return sum_of_euclid_distances / n"
   ]
  },
  {
   "cell_type": "markdown",
   "id": "ff60bfce-4ba2-4aab-b818-ef084ebb2f19",
   "metadata": {},
   "source": [
    "## 4.1 Average Displacement Error (ADE)"
   ]
  },
  {
   "cell_type": "markdown",
   "id": "69ec071d-73d8-4c78-8d98-ccf068dd6774",
   "metadata": {},
   "source": [
    "Der ADE ist der durchschnittliche Fehler zwischen der Ground Trouth und der vorhergesagten Trajektorie aller vorhergesagten Positionen (in unserem Fall alle Timestamps > 8) über alle Fußgänger. Das bedeutet, wir holen uns alle Daten mit Timestamp > 8 aus dem Dataframe, da alle Positionen der Timestamps 9 bis 20 vorhergesagt wurden (basierend auf den ersten 8).\n",
    "\n",
    "Schöne Definition: https://arxiv.org/pdf/1907.08752.pdf#:~:text=Average%20Displacement%20Error%20(ADE)%3A,entire%20duration%20of%205%20seconds"
   ]
  },
  {
   "cell_type": "code",
   "execution_count": null,
   "id": "5ca8fc13-1aaa-4ae8-985f-541aaf373522",
   "metadata": {},
   "outputs": [],
   "source": [
    "df_predictions = df_test.drop(df_test[df_test.Timestamp < 9].index) # nur die vorhergesagten Daten auswählen\n",
    "true_positions = np.array(df_predictions[['X', 'Y']]) # Ground Trouth der Positionen\n",
    "predicted_positions = np.array(df_predictions[['predicted_x', 'predicted_y']]) # Vorhergesagte Positionen\n",
    "ade = calc_displacement_error(true_positions, predicted_positions)\n",
    "print(\"Average Displacement Error (ADE): \", round(ade, 3))"
   ]
  },
  {
   "cell_type": "markdown",
   "id": "a25cc70d-281c-4327-b2d8-124d8e9e9d44",
   "metadata": {},
   "source": [
    "## 4.2 Final Displacement Error (FDE)"
   ]
  },
  {
   "cell_type": "markdown",
   "id": "7d3a8074-ea0d-41d4-8719-3cd239d37185",
   "metadata": {},
   "source": [
    "Der FDE ist der Fehler zwischen der finalen vorhergesagten Position, und der zugehörigen Ground Trouth. In anderen Worten: FDE = die Summe der euklidischen Distanzen zwischen allen final vorhergesagten Positionen vs. Ground Trouth geteilt durch die Anzahl der Fußgänger. Hier wählen wir also alle Daten mit Timestamp = 20 aus und übergeben sie der *calc_displacement_error* Methode."
   ]
  },
  {
   "cell_type": "code",
   "execution_count": null,
   "id": "c6f86532-de50-4670-8bf4-4f0ee6a0244a",
   "metadata": {},
   "outputs": [],
   "source": [
    "df_final_positions = df_test[df_test.Timestamp == 20] # Daten für die finalen Positionen extrahieren \n",
    "true_final_positions = np.array(df_final_positions[['X', 'Y']]) # Ground Trouth der finalen Positionen\n",
    "predicted_final_positions = np.array(df_final_positions[['predicted_x', 'predicted_y']]) # Vorhergesagte finale Positionen\n",
    "fde = calc_displacement_error(true_final_positions, predicted_final_positions)\n",
    "print(\"Final Displacement Error (FDE): \", round(fde, 3))"
   ]
  },
  {
   "cell_type": "markdown",
   "id": "7b06e5c3-ad87-4951-bb00-dcfb6c5d358a",
   "metadata": {},
   "source": [
    "# 5. Zusätze"
   ]
  },
  {
   "cell_type": "markdown",
   "id": "c371ec6d-2a28-4b32-86f2-ac71700df63c",
   "metadata": {},
   "source": [
    "Unter diesem Unterpunkt sind zusätzliche Visualisierungen zu finden, welche sich teilweise auch in der Projektdokumentation wiederfinden."
   ]
  },
  {
   "cell_type": "markdown",
   "id": "23674a13-1d53-4539-a226-9164ce88ebf1",
   "metadata": {},
   "source": [
    "## 5.1 Plotten des Displacement-Errors für jeden Zeitschritt"
   ]
  },
  {
   "cell_type": "markdown",
   "id": "637dc081-69cc-4ab5-bfc0-dad964d1687b",
   "metadata": {},
   "source": [
    "Das trainierte NN hat iterativ die nächsten 12 Positionen vorhergesagt. Durch dieses iterative Vorgehen, summiert sich der Fehler immer mehr auf, da wir ja basierend auf einer evtl. falschen Vorhersage wieder eine erneute Vorhersage treffen. Wenn man das ganze dann 12 mal wiederholt, kann sich der Fehler ganz schön aufsummieren, was auch folgende Grafik verdeutlicht:"
   ]
  },
  {
   "cell_type": "code",
   "execution_count": 33,
   "id": "5c00259d-859f-4971-8a9b-5d581a101264",
   "metadata": {},
   "outputs": [
    {
     "data": {
      "image/png": "[encoded data removed]",
      "text/plain": [
       "<Figure size 432x288 with 1 Axes>"
      ]
     },
     "metadata": {
      "needs_background": "light"
     },
     "output_type": "display_data"
    }
   ],
   "source": [
    "timesteps = []\n",
    "displacement_errors = []\n",
    "for timestep in range(9, 20):\n",
    "    df_current_timestep = df_test[df_test.Timestamp == timestep] # Daten des aktuellen Timestamps extrahieren\n",
    "    true_positions = np.array(df_current_timestep[['X', 'Y']]) # Ground Trouth der Positionen\n",
    "    predicted_positions = np.array(df_current_timestep[['predicted_x', 'predicted_y']]) # Vorhergesagte Positionen\n",
    "    de = calc_displacement_error(true_positions, predicted_positions) # Displacement Error für einen bestimmten Timestamp\n",
    "    timesteps.append(timestep)\n",
    "    displacement_errors.append(de)\n",
    "\n",
    "plot_displacement_errors(timesteps, displacement_errors)"
   ]
  },
  {
   "cell_type": "markdown",
   "id": "94e41e9e-5c36-40b4-96ba-5709e204d1fd",
   "metadata": {},
   "source": [
    "## 5.2 Plotten von Beispiel-Fußgänger-Trajektorien"
   ]
  },
  {
   "cell_type": "markdown",
   "id": "ceff0c15-393f-4595-b4b6-9a04b9acb720",
   "metadata": {},
   "source": [
    "Hier kann man sich die beobachteten Positionen, sowie die gewünschten vorhergesagten Positionen der Fußgänger **aus einem gewünschten Datensatz** anzeigen lassen."
   ]
  },
  {
   "cell_type": "code",
   "execution_count": null,
   "id": "1d4d875e-2c75-4c5b-b4e2-3cd98ac0c096",
   "metadata": {},
   "outputs": [],
   "source": [
    "desired_dataset = df_train\n",
    "ids = np.array(desired_dataset.ID.unique())\n",
    "ids = ids[0:2] # Auswählen, welche Datenpunkte geplottet werden sollen\n",
    "for id in ids:\n",
    "    print(\"Fußgänger-ID: \", id, \"\\n\")\n",
    "    current_data = df_train[df_train.ID == id]\n",
    "    observed = current_data.loc[current_data.Timestamp <= 8] \n",
    "    predicted = current_data.loc[current_data.Timestamp > 8] \n",
    "    observed_x = observed['X'].tolist()\n",
    "    observed_y = observed['Y'].tolist()\n",
    "    predicted_x = predicted['X'].tolist()\n",
    "    predicted_y = predicted['Y'].tolist()\n",
    "    plot_pedestrian_trajectory(x_observed = observed_x, y_observed = observed_y, x_pred = predicted_x, y_pred = predicted_y)"
   ]
  },
  {
   "cell_type": "markdown",
   "id": "c7a0be6f-02bb-44d7-8adf-5dcb27ccab49",
   "metadata": {},
   "source": [
    "## 5.3 Plotten von tatsächlich vorhergesagten Trajektorien vs. Ground Trouth"
   ]
  },
  {
   "cell_type": "markdown",
   "id": "e6c253b8-9a3b-4b0e-b065-6587b98561ec",
   "metadata": {},
   "source": [
    "Hier kann man sich die vom NN vorhergesagten Trajektorien **des Testdatensatzes**, sowie die zugehörige Ground Trouth visualisieren lassen. "
   ]
  },
  {
   "cell_type": "code",
   "execution_count": null,
   "id": "f1e4081d-1265-4014-9369-4e2e4dac83ca",
   "metadata": {},
   "outputs": [],
   "source": [
    "ids = np.array(df_test.ID.unique())\n",
    "ids = ids[0:100] # Auswählen, welche Datenpunkte geplottet werden sollen\n",
    "for id in ids:\n",
    "    print(\"Fußgänger-ID: \", id, \"\\n\")\n",
    "    current_data = df_test[df_test.ID == id]\n",
    "    observed = current_data.loc[current_data.Timestamp <= 8] \n",
    "    predicted = current_data.loc[current_data.Timestamp > 8] \n",
    "    observed_x = observed['X'].tolist()\n",
    "    observed_y = observed['Y'].tolist()\n",
    "    gt_predicted_x = predicted['X'].tolist()\n",
    "    gt_predicted_y = predicted['Y'].tolist()\n",
    "    predicted_x = predicted['predicted_x'].tolist()\n",
    "    predicted_y = predicted['predicted_y'].tolist()\n",
    "    plot_pedestrian_trajectory(x_observed = observed_x, y_observed = observed_y, x_pred = predicted_x, y_pred = predicted_y, x_real = gt_predicted_x, y_real = gt_predicted_y)"
   ]
  },
  {
   "cell_type": "code",
   "execution_count": null,
   "id": "031bce43-533e-4166-a75c-a5ae3cb692f3",
   "metadata": {},
   "outputs": [],
   "source": []
  }
 ],
 "metadata": {
  "kernelspec": {
   "display_name": "Python 3 (ipykernel)",
   "language": "python",
   "name": "python3"
  },
  "language_info": {
   "codemirror_mode": {
    "name": "ipython",
    "version": 3
   },
   "file_extension": ".py",
   "mimetype": "text/x-python",
   "name": "python",
   "nbconvert_exporter": "python",
   "pygments_lexer": "ipython3",
   "version": "3.9.4"
  }
 },
 "nbformat": 4,
 "nbformat_minor": 5
}
