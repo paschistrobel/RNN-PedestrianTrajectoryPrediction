{
 "cells": [
  {
   "cell_type": "code",
   "execution_count": null,
   "id": "202113f4-c2d8-450d-8f60-d1377128427d",
   "metadata": {},
   "outputs": [],
   "source": [
    "import math\n",
    "import numpy as np\n",
    "import pandas as pd\n",
    "import matplotlib.pyplot as plt\n",
    "from keras.models import Sequential\n",
    "from sklearn.preprocessing import MinMaxScaler\n",
    "from keras.layers import LSTM, Dense, TimeDistributed, Dropout, Activation\n",
    "from sklearn.preprocessing import RobustScaler\n",
    "\n",
    "# Creating the sample sinus curve dataset\n",
    "steps = 300\n",
    "gradient = 0.02\n",
    "list_a = []\n",
    "for i in range(0, steps, 1):\n",
    "    y = round(gradient * i + math.sin(math.pi * 0.125 * i), 5)\n",
    "    list_a.append(y)\n",
    "df = pd.DataFrame({\"valid\": list_a}, columns=[\"valid\"])\n",
    "\n",
    "# Visualizing the data\n",
    "fig, ax1 = plt.subplots(figsize=(16, 4))\n",
    "ax1.xaxis.set_major_locator(plt.MaxNLocator(30))\n",
    "plt.title(\"Sinus Data\")\n",
    "plt.plot(df[[\"valid\"]], color=\"#039dfc\", linewidth=3.0)\n",
    "plt.grid()\n",
    "plt.show()"
   ]
  },
  {
   "cell_type": "code",
   "execution_count": null,
   "id": "38086425-17be-41ff-b260-6d0d4cc6b38e",
   "metadata": {},
   "outputs": [],
   "source": [
    "df"
   ]
  },
  {
   "cell_type": "code",
   "execution_count": null,
   "id": "eebae2d2-7c8e-4844-8c69-bdf9127146a9",
   "metadata": {},
   "outputs": [],
   "source": [
    "# Get the number of rows in the data\n",
    "nrows = df.shape[0]\n",
    "\n",
    "# Convert the data to numpy values\n",
    "np_data_unscaled = np.array(df)\n",
    "np_data_unscaled = np.reshape(np_data_unscaled, (nrows, -1))\n",
    "print(np_data_unscaled)"
   ]
  },
  {
   "cell_type": "code",
   "execution_count": 5,
   "id": "b360e7fc-fdb7-4a30-bb2b-fed3ee3d6bd9",
   "metadata": {},
   "outputs": [],
   "source": [
    "# Transform the data by scaling each feature to a range between 0 and 1\n",
    "scaler = RobustScaler()\n",
    "np_data = scaler.fit_transform(np_data_unscaled)\n",
    "\n",
    "# Set the sequence length - this is the timeframe used to make a single prediction\n",
    "sequence_length = 110\n",
    "\n",
    "# Prediction Index\n",
    "index_Close = 0"
   ]
  },
  {
   "cell_type": "code",
   "execution_count": 6,
   "id": "75566b8a-df42-4c85-a59b-a1efd9cb5387",
   "metadata": {},
   "outputs": [],
   "source": [
    "# Split the training data into train and train data sets\n",
    "# As a first step, we get the number of rows to train the model on 80% of the data \n",
    "train_data_len = math.ceil(np_data.shape[0] * 0.8)\n",
    "\n",
    "# Create the training and test data\n",
    "train_data = np_data[0:train_data_len, :]\n",
    "test_data = np_data[train_data_len - sequence_length:, :]"
   ]
  },
  {
   "cell_type": "code",
   "execution_count": 7,
   "id": "a7f07f00-fdb1-46ea-8ea3-dd2c514585b7",
   "metadata": {},
   "outputs": [
    {
     "name": "stdout",
     "output_type": "stream",
     "text": [
      "(130, 110, 1)\n",
      "(130,)\n"
     ]
    }
   ],
   "source": [
    "# The RNN needs data with the format of [samples, time steps, features]\n",
    "# Here, we create N samples, sequence_length time steps per sample, and 6 features\n",
    "def partition_dataset(sequence_length, data):\n",
    "    x, y = [], []\n",
    "    data_len = data.shape[0]\n",
    "    for i in range(sequence_length, data_len):\n",
    "        x.append(data[i-sequence_length:i,:]) #contains sequence_length values 0-sequence_length * columsn\n",
    "        y.append(data[i, index_Close]) #contains the prediction values for validation (3rd column = Close),  for single-step prediction\n",
    "    \n",
    "    \n",
    "    # Convert the x and y to numpy arrays\n",
    "    x = np.array(x)\n",
    "    y = np.array(y)\n",
    "    return x, y\n",
    "\n",
    "# Generate training data and test data\n",
    "x_train, y_train = partition_dataset(sequence_length, train_data)\n",
    "print(x_train.shape)\n",
    "print(y_train.shape)\n",
    "x_test, y_test = partition_dataset(sequence_length, test_data)"
   ]
  },
  {
   "cell_type": "code",
   "execution_count": 8,
   "id": "a5baea1c-18b6-4289-9297-f587ac586163",
   "metadata": {},
   "outputs": [
    {
     "name": "stdout",
     "output_type": "stream",
     "text": [
      "(130, 110, 1) (130,)\n",
      "(60, 110, 1) (60,)\n",
      "0.599655121905751\n",
      "0.599655121905751\n"
     ]
    }
   ],
   "source": [
    "# Print the shapes: the result is: (rows, training_sequence, features) (prediction value, )\n",
    "print(x_train.shape, y_train.shape)\n",
    "print(x_test.shape, y_test.shape)\n",
    "\n",
    "# Validate that the prediction value and the input match up\n",
    "# The last close price of the second input sample should equal the first prediction value\n",
    "print(x_test[1][sequence_length-1][index_Close])\n",
    "print(y_test[0])"
   ]
  },
  {
   "cell_type": "code",
   "execution_count": 9,
   "id": "bf980ea1-4b33-4d81-afc0-cf259d74e9ec",
   "metadata": {},
   "outputs": [
    {
     "name": "stdout",
     "output_type": "stream",
     "text": [
      "[-5.01261668e-01 -3.86603017e-01 -2.52553296e-01 -1.18503575e-01\n",
      " -3.84492470e-03  7.49743672e-02  1.06972130e-01  8.82901237e-02\n",
      "  2.27865884e-02 -7.85563057e-02 -1.99290270e-01 -3.20024235e-01\n",
      " -4.21367129e-01 -4.86870664e-01 -5.05552670e-01 -4.73554908e-01\n",
      " -3.94735616e-01 -2.80076965e-01 -1.46027244e-01 -1.19775230e-02\n",
      "  1.02681128e-01  1.81500419e-01  2.13498182e-01  1.94816176e-01\n",
      "  1.29312641e-01  2.79697466e-02 -9.27642179e-02 -2.13498182e-01\n",
      " -3.14841076e-01 -3.80344612e-01 -3.99026618e-01 -3.67028855e-01\n",
      " -2.88209563e-01 -1.73550913e-01 -3.95011918e-02  9.45485293e-02\n",
      "  2.09207180e-01  2.88026472e-01  3.20024235e-01  3.01342228e-01\n",
      "  2.35838693e-01  1.34495799e-01  1.37618344e-02 -1.06972130e-01\n",
      " -2.08315024e-01 -2.73818560e-01 -2.92500566e-01 -2.60502803e-01\n",
      " -1.81683511e-01 -6.70248605e-02  6.70248605e-02  2.01074582e-01\n",
      "  3.15733232e-01  3.94552524e-01  4.26550287e-01  4.07868281e-01\n",
      "  3.42364745e-01  2.41021851e-01  1.20287887e-01 -4.46077844e-04\n",
      " -1.01788972e-01 -1.67292507e-01 -1.85974514e-01 -1.53976751e-01\n",
      " -7.51574588e-02  3.95011918e-02  1.73550913e-01  3.07600634e-01\n",
      "  4.22259284e-01  5.01078576e-01  5.33076339e-01  5.14394333e-01\n",
      "  4.48890797e-01  3.47547903e-01  2.26813939e-01  1.06079974e-01\n",
      "  4.73708039e-03 -6.07664549e-02 -7.94484614e-02 -4.74506984e-02\n",
      "  3.13685935e-02  1.46027244e-01  2.80076965e-01  4.14126686e-01\n",
      "  5.28785337e-01  6.07604629e-01  6.39602392e-01  6.20920385e-01\n",
      "  5.55416850e-01  4.54073956e-01  3.33339991e-01  2.12606027e-01\n",
      "  1.11263133e-01  4.57595973e-02  2.70775909e-02  5.90753539e-02\n",
      "  1.37894646e-01  2.52553296e-01  3.86603017e-01  5.20652738e-01\n",
      "  6.35311389e-01  7.14130681e-01  7.46128444e-01  7.27446437e-01\n",
      "  6.61942902e-01  5.60600008e-01  4.39866043e-01  3.19132079e-01\n",
      "  2.17789185e-01  1.52285650e-01  1.33603643e-01  1.65601406e-01\n",
      "  2.44420698e-01  3.59079349e-01  4.93129070e-01  6.27178791e-01\n",
      "  7.41837441e-01  8.20656733e-01  8.52654496e-01  8.33972490e-01\n",
      "  7.68468954e-01  6.67126060e-01  5.46392096e-01  4.25658131e-01\n",
      "  3.24315237e-01  2.58811702e-01  2.40129695e-01  2.72127458e-01\n",
      "  3.50946750e-01  4.65605401e-01]\n",
      "1\n"
     ]
    }
   ],
   "source": [
    "print(y_train)\n",
    "print(x_train.shape[2])"
   ]
  },
  {
   "cell_type": "code",
   "execution_count": 10,
   "id": "81000878-658f-49d3-8748-2e235052b41c",
   "metadata": {},
   "outputs": [
    {
     "name": "stdout",
     "output_type": "stream",
     "text": [
      "Epoch 1/5\n",
      "130/130 [==============================] - 31s 34ms/step - loss: 0.0603\n",
      "Epoch 2/5\n",
      "130/130 [==============================] - 4s 33ms/step - loss: 0.0025\n",
      "Epoch 3/5\n",
      "130/130 [==============================] - 4s 32ms/step - loss: 4.5661e-05: 0s - loss: 4.4876 - ETA: 0s - loss\n",
      "Epoch 4/5\n",
      "130/130 [==============================] - 4s 31ms/step - loss: 2.7555e-05\n",
      "Epoch 5/5\n",
      "130/130 [==============================] - 4s 31ms/step - loss: 1.2055e-05\n"
     ]
    }
   ],
   "source": [
    "# Configure the neural network model\n",
    "epochs = 5; batch_size = 1;\n",
    "\n",
    "# Model with n_neurons = inputshape Timestamps, each with x_train.shape[2] variables\n",
    "n_neurons = x_train.shape[1] * x_train.shape[2]\n",
    "model = Sequential()\n",
    "model.add(LSTM(n_neurons, return_sequences=False, input_shape=(x_train.shape[1], 1)))\n",
    "model.add(Dense(1))\n",
    "model.compile(optimizer=\"adam\", loss=\"mean_squared_error\")\n",
    "\n",
    "# Train the model\n",
    "history = model.fit(x_train, y_train, batch_size=batch_size, epochs=epochs)"
   ]
  },
  {
   "cell_type": "code",
   "execution_count": 15,
   "id": "5c35590c-29e1-435e-b372-92949857098e",
   "metadata": {},
   "outputs": [
    {
     "name": "stdout",
     "output_type": "stream",
     "text": [
      "(60, 110, 1)\n"
     ]
    }
   ],
   "source": [
    "# Reshape the data, so that we get an array with multiple test datasets\n",
    "x_test = np.array(x_test)\n",
    "x_test = np.reshape(x_test, (x_test.shape[0], x_test.shape[1], 1))\n",
    "print(x_test.shape)"
   ]
  },
  {
   "cell_type": "code",
   "execution_count": 16,
   "id": "1a5f4cdb-abaa-4bdc-9d27-2a1bc955cf4c",
   "metadata": {},
   "outputs": [],
   "source": [
    "# Get the predicted values\n",
    "predictions = model.predict(x_test)\n",
    "predictions = scaler.inverse_transform(predictions)"
   ]
  },
  {
   "cell_type": "code",
   "execution_count": 17,
   "id": "c0884b5b-23f8-4235-98b7-7689e99ecc3b",
   "metadata": {},
   "outputs": [
    {
     "name": "stdout",
     "output_type": "stream",
     "text": [
      "60\n"
     ]
    }
   ],
   "source": [
    "print(len(predictions))"
   ]
  },
  {
   "cell_type": "code",
   "execution_count": 18,
   "id": "bc5ba259-75a7-4a53-a058-9ca7b01fb618",
   "metadata": {},
   "outputs": [
    {
     "name": "stdout",
     "output_type": "stream",
     "text": [
      "me: -4.579, rmse: 4.5654\n"
     ]
    }
   ],
   "source": [
    "# Get the root mean squarred error (RMSE) and the meadian error (ME)\n",
    "rmse = np.sqrt(np.mean(predictions - y_test) ** 2)\n",
    "me = np.median(y_test - predictions)\n",
    "print(\"me: \" + str(round(me, 4)) + \", rmse: \" + str(round(rmse, 4)))"
   ]
  },
  {
   "cell_type": "code",
   "execution_count": 19,
   "id": "069c6628-b3da-4907-96e0-9804ab91a918",
   "metadata": {},
   "outputs": [
    {
     "data": {
      "image/png": "[encoded data removed]",
      "text/plain": [
       "<Figure size 2304x360 with 1 Axes>"
      ]
     },
     "metadata": {
      "needs_background": "light"
     },
     "output_type": "display_data"
    }
   ],
   "source": [
    "# Visualize the prediction data\n",
    "train = df[:train_data_len]\n",
    "valid = df[train_data_len:]\n",
    "valid.insert(1, \"Predictions\", predictions, True)\n",
    "fig, ax1 = plt.subplots(figsize=(32, 5), sharex=True)\n",
    "yt = train[[\"valid\"]]\n",
    "yv = valid[[\"valid\", \"Predictions\"]]\n",
    "ax1.tick_params(axis=\"x\", rotation=0, labelsize=10, length=0)\n",
    "plt.title(\"Predictions vs Ground Truth\", fontsize=18)\n",
    "plt.plot(yv[\"Predictions\"], color=\"#F9A048\")\n",
    "plt.plot(yv[\"valid\"], color=\"#A951DC\")\n",
    "plt.legend([\"Ground Truth\", \"Train\"], loc=\"upper left\")\n",
    "plt.grid()\n",
    "plt.show()"
   ]
  },
  {
   "cell_type": "code",
   "execution_count": 20,
   "id": "1709b3d2-c15e-4bca-bee2-d3fe70866d85",
   "metadata": {},
   "outputs": [
    {
     "data": {
      "image/png": "[encoded data removed]",
      "text/plain": [
       "<Figure size 360x360 with 1 Axes>"
      ]
     },
     "metadata": {
      "needs_background": "light"
     },
     "output_type": "display_data"
    }
   ],
   "source": [
    "# visualize the loss\n",
    "fig, ax = plt.subplots(figsize=(5, 5), sharex=True)\n",
    "plt.plot(history.history[\"loss\"])\n",
    "plt.title(\"Model loss\")\n",
    "plt.ylabel(\"Loss\")\n",
    "plt.xlabel(\"Epoch\")\n",
    "ax.xaxis.set_major_locator(plt.MaxNLocator(epochs))\n",
    "plt.legend([\"Train\", \"Test\"], loc=\"upper left\")\n",
    "plt.grid()\n",
    "plt.show()"
   ]
  },
  {
   "cell_type": "code",
   "execution_count": 21,
   "id": "c4c16d34-ca55-4a30-840e-609ca09ee86d",
   "metadata": {},
   "outputs": [],
   "source": [
    "# Settings and Model Labels\n",
    "rolling_forecast_range = 30\n",
    "titletext = \"Forecast Chart Model A\"\n",
    "ms = [\n",
    "    [\"epochs\", epochs],\n",
    "    [\"batch_size\", batch_size],\n",
    "    [\"lstm_neuron_number\", n_neurons],\n",
    "    [\"rolling_forecast_range\", rolling_forecast_range],\n",
    "    [\"layers\", \"LSTM, DENSE(1)\"],\n",
    "]\n",
    "\n",
    "settings_text = \"\"\n",
    "lms = len(ms)\n",
    "for i in range(0, lms):\n",
    "    settings_text += ms[i][0] + \": \" + str(ms[i][1])\n",
    "    \n",
    "    if i < lms - 1:\n",
    "        settings_text = settings_text + \",  \"\n",
    "        \n",
    "new_df = df.filter([\"valid\"])"
   ]
  },
  {
   "cell_type": "code",
   "execution_count": 22,
   "id": "dd123d70-3f6e-43dd-9725-4910ffa9f835",
   "metadata": {},
   "outputs": [
    {
     "name": "stdout",
     "output_type": "stream",
     "text": [
      "[[0.63992524]]\n",
      "[[4.92097]]\n",
      "4.921\n"
     ]
    }
   ],
   "source": [
    "last_values = new_df[-n_neurons:].values\n",
    "last_values_scaled = scaler.transform(last_values)\n",
    "X_input = []\n",
    "X_input.append(last_values_scaled)\n",
    "X_input = np.array(X_input)\n",
    "X_test = np.reshape(X_input, (X_input.shape[0], X_input.shape[1], 1))\n",
    "# shape von x_test = (1, 110, 1)\n",
    "pred_value = model.predict(X_input)\n",
    "print(pred_value)\n",
    "pred_value_unscaled = scaler.inverse_transform(pred_value)\n",
    "print(pred_value_unscaled)\n",
    "pred_value_f = round(pred_value_unscaled[0, 0], 4)\n",
    "print(pred_value_f)"
   ]
  },
  {
   "cell_type": "code",
   "execution_count": 23,
   "id": "4f7e1e6d-7b57-4b19-8239-04ce235018da",
   "metadata": {},
   "outputs": [
    {
     "name": "stdout",
     "output_type": "stream",
     "text": [
      "[300]\n"
     ]
    }
   ],
   "source": [
    "next_index = new_df.iloc[[-1]].index.values + 1\n",
    "print(next_index)"
   ]
  },
  {
   "cell_type": "code",
   "execution_count": 24,
   "id": "a945ae9f-24d1-40a9-a495-73c515cfd53c",
   "metadata": {},
   "outputs": [
    {
     "name": "stdout",
     "output_type": "stream",
     "text": [
      "[[0.63992524]]\n",
      "[300]\n",
      "[[0.65914226]]\n",
      "[301]\n",
      "[[0.72144]]\n",
      "[302]\n",
      "[[0.8175191]]\n",
      "[303]\n",
      "[[0.93321276]]\n",
      "[304]\n",
      "[[1.0516214]]\n",
      "[305]\n",
      "[[1.1555762]]\n",
      "[306]\n",
      "[[1.2300715]]\n",
      "[307]\n",
      "[[1.2644547]]\n",
      "[308]\n",
      "[[1.2540282]]\n",
      "[309]\n",
      "[[1.2006853]]\n",
      "[310]\n",
      "[[1.1126009]]\n",
      "[311]\n",
      "[[1.003054]]\n",
      "[312]\n",
      "[[0.88850963]]\n",
      "[313]\n",
      "[[0.7861234]]\n",
      "[314]\n",
      "[[0.71101844]]\n",
      "[315]\n",
      "[[0.6739268]]\n",
      "[316]\n",
      "[[0.6796486]]\n",
      "[317]\n",
      "[[0.7265516]]\n",
      "[318]\n",
      "[[0.8070423]]\n",
      "[319]\n",
      "[[0.90884316]]\n",
      "[320]\n",
      "[[1.0168269]]\n",
      "[321]\n",
      "[[1.1151677]]\n",
      "[322]\n",
      "[[1.1895608]]\n",
      "[323]\n",
      "[[1.2292876]]\n",
      "[324]\n",
      "[[1.228779]]\n",
      "[325]\n",
      "[[1.1884254]]\n",
      "[326]\n",
      "[[1.114464]]\n",
      "[327]\n",
      "[[1.0181012]]\n",
      "[328]\n",
      "[[0.91384625]]\n",
      "[329]\n"
     ]
    }
   ],
   "source": [
    "# Making a Multi-Step Prediction\n",
    "for i in range(0, rolling_forecast_range):\n",
    "    last_values = new_df[-n_neurons:].values\n",
    "    last_values_scaled = scaler.transform(last_values)\n",
    "    X_input = []\n",
    "    X_input.append(last_values_scaled)\n",
    "    X_input = np.array(X_input)\n",
    "    X_test = np.reshape(X_input, (X_input.shape[0], X_input.shape[1], 1))\n",
    "    # shape von x_test = (1, 110, 1)\n",
    "    pred_value = model.predict(X_input)\n",
    "    print(pred_value)\n",
    "    pred_value_unscaled = scaler.inverse_transform(pred_value)\n",
    "    pred_value_f = round(pred_value_unscaled[0, 0], 4)\n",
    "    next_index = new_df.iloc[[-1]].index.values + 1\n",
    "    print(next_index)\n",
    "    new_df = new_df.append(pd.DataFrame({\"valid\": pred_value_f}, index=next_index))\n",
    "    new_df_length = new_df.size\n",
    "forecast = new_df[new_df_length - rolling_forecast_range : new_df_length].rename(\n",
    "    columns={\"valid\": \"Forecast\"}\n",
    ")"
   ]
  },
  {
   "cell_type": "code",
   "execution_count": null,
   "id": "a07317bf-8fa0-4581-b251-845121efaf2b",
   "metadata": {},
   "outputs": [],
   "source": [
    "df"
   ]
  },
  {
   "cell_type": "code",
   "execution_count": null,
   "id": "15074a13-d1a6-450b-b433-84e936f2a94c",
   "metadata": {},
   "outputs": [],
   "source": []
  }
 ],
 "metadata": {
  "kernelspec": {
   "display_name": "Python 3 (ipykernel)",
   "language": "python",
   "name": "python3"
  },
  "language_info": {
   "codemirror_mode": {
    "name": "ipython",
    "version": 3
   },
   "file_extension": ".py",
   "mimetype": "text/x-python",
   "name": "python",
   "nbconvert_exporter": "python",
   "pygments_lexer": "ipython3",
   "version": "3.9.4"
  }
 },
 "nbformat": 4,
 "nbformat_minor": 5
}
