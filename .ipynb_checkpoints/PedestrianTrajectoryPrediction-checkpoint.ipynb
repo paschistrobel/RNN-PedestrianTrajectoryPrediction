{
 "cells": [
  {
   "cell_type": "code",
   "execution_count": null,
   "id": "e4a7ed81-94ed-48c7-af50-931e2214919b",
   "metadata": {},
   "outputs": [],
   "source": [
    "import os\n",
    "import pandas as pd\n",
    "import matplotlib.pyplot as plt\n",
    "import numpy as np\n",
    "from sklearn.preprocessing import StandardScaler, MinMaxScaler, RobustScaler\n",
    "from tensorflow import keras\n",
    "from keras.models import Sequential\n",
    "from keras.layers import Dense, LSTM\n",
    "from keras.optimizers import adam_v2\n",
    "from keras.metrics import RootMeanSquaredError"
   ]
  },
  {
   "cell_type": "markdown",
   "id": "6fe03195-1f85-4d7d-b04b-0c4d6a28f551",
   "metadata": {},
   "source": [
    "# 0. Daten vorbereiten"
   ]
  },
  {
   "cell_type": "markdown",
   "id": "dd7aaa2a-e686-48b1-ab9f-fc70d839f811",
   "metadata": {},
   "source": [
    "Bevor wir mit unseren Daten arbeiten können, müssen wir diese erst einmal vorbereiten. Darunter fällt das **Einlesen**, das **Vereinheitlichen von Timestamps und Fußgänger-IDs**, das **Berechnen der Delta-Werte** für die x- und y-Position zwischen zwei Zeitschritten, sowie das **Aufteilen in Trainings- und Testdaten**."
   ]
  },
  {
   "cell_type": "code",
   "execution_count": 139,
   "id": "716fb9c5-e3f7-4b37-b38b-85f09850a19c",
   "metadata": {},
   "outputs": [],
   "source": [
    "path_train = \"Data/datasplits/traindata.csv\"\n",
    "path_test = \"Data/datasplits/testdata.csv\"\n",
    "\n",
    "# Datenvorbereitung wird nur einmal ausgeführt; Sobald Trainings- und Testdaten als .csv Dateien abgespeichert wurden, werden diese einfach nur eingelesen\n",
    "# Um einen neuen Trainings-/Testsplit zu erhalten, einfach die csv-Dateien aus dem Ordner \"Data/datasplits\" entfernen\n",
    "if not os.path.exists(path_train) or not os.path.exists(path_test):\n",
    "    # Eine genauere Beschreibung, was bei der Vorbereitung der Daten passiert, ist in der Datei \"DataPreparation.ipynb\" selbst zu finden\n",
    "    %run DataPreparation.ipynb\n",
    "\n",
    "# Einlesen von Trainings- und Testdaten\n",
    "df_train = pd.read_csv(path_train, sep=\",\")\n",
    "df_test = pd.read_csv(path_test, sep=',')"
   ]
  },
  {
   "cell_type": "code",
   "execution_count": null,
   "id": "15946f28-a44c-4300-b3f8-5987b1c44169",
   "metadata": {},
   "outputs": [],
   "source": [
    "df_train"
   ]
  },
  {
   "cell_type": "markdown",
   "id": "15fa7aeb-3c42-4ed6-820c-459299657f81",
   "metadata": {},
   "source": [
    "# 1. Daten vorverarbeiten"
   ]
  },
  {
   "cell_type": "markdown",
   "id": "a1755d97-7118-4f04-9167-8de7ed277ad7",
   "metadata": {},
   "source": [
    "Durch die ersten 8 Werte erhalten wir 7 Deltas. Der erste Wert ist immer 0 (da wir ja keinen vorherigen Wert haben, um das Delta zu berechnen). Aus diesem Grund wird der erste Wert entfernt und dann später nur die sieben Delta-Werte in das NN gegeben."
   ]
  },
  {
   "cell_type": "code",
   "execution_count": 140,
   "id": "eb0207d5-8850-4d51-9f24-eeed90b93978",
   "metadata": {},
   "outputs": [],
   "source": [
    "# Alle ersten Zeitschritte werden entfernt (da dx und dy hier eh immer 0 ist)\n",
    "df_train = df_train.drop(df_train[df_train.Timestamp == 1].index)"
   ]
  },
  {
   "cell_type": "markdown",
   "id": "68f53fb0-88db-4dc5-9929-c52d794ed92a",
   "metadata": {},
   "source": [
    "## 1.3 Standardisieren"
   ]
  },
  {
   "cell_type": "code",
   "execution_count": 141,
   "id": "34182fd7-a844-4cd5-a430-844fd66c44c6",
   "metadata": {},
   "outputs": [],
   "source": [
    "# Trainings- und Validierungsdaten Daten skalieren\n",
    "scaler = MinMaxScaler(feature_range = (-1,1)) # = StandardScaler() oder RobustScaler()\n",
    "features = df_train[[\"dx\", \"dy\"]]\n",
    "scaler.fit(features)\n",
    "df_train[[\"dx_scaled\", \"dy_scaled\"]] = scaler.transform(features)"
   ]
  },
  {
   "cell_type": "code",
   "execution_count": 142,
   "id": "1998bd9d-ad82-472f-b7f0-1bbdb1b7f244",
   "metadata": {},
   "outputs": [
    {
     "data": {
      "text/html": [
       "<div>\n",
       "<style scoped>\n",
       "    .dataframe tbody tr th:only-of-type {\n",
       "        vertical-align: middle;\n",
       "    }\n",
       "\n",
       "    .dataframe tbody tr th {\n",
       "        vertical-align: top;\n",
       "    }\n",
       "\n",
       "    .dataframe thead th {\n",
       "        text-align: right;\n",
       "    }\n",
       "</style>\n",
       "<table border=\"1\" class=\"dataframe\">\n",
       "  <thead>\n",
       "    <tr style=\"text-align: right;\">\n",
       "      <th></th>\n",
       "      <th>Timestamp</th>\n",
       "      <th>ID</th>\n",
       "      <th>X</th>\n",
       "      <th>Y</th>\n",
       "      <th>dx</th>\n",
       "      <th>dy</th>\n",
       "      <th>dx_scaled</th>\n",
       "      <th>dy_scaled</th>\n",
       "    </tr>\n",
       "  </thead>\n",
       "  <tbody>\n",
       "    <tr>\n",
       "      <th>1</th>\n",
       "      <td>2</td>\n",
       "      <td>1</td>\n",
       "      <td>2.035</td>\n",
       "      <td>14.378</td>\n",
       "      <td>0.307</td>\n",
       "      <td>0.000</td>\n",
       "      <td>-0.164576</td>\n",
       "      <td>-0.211487</td>\n",
       "    </tr>\n",
       "    <tr>\n",
       "      <th>2</th>\n",
       "      <td>3</td>\n",
       "      <td>1</td>\n",
       "      <td>2.342</td>\n",
       "      <td>14.378</td>\n",
       "      <td>0.307</td>\n",
       "      <td>0.000</td>\n",
       "      <td>-0.164576</td>\n",
       "      <td>-0.211487</td>\n",
       "    </tr>\n",
       "    <tr>\n",
       "      <th>3</th>\n",
       "      <td>4</td>\n",
       "      <td>1</td>\n",
       "      <td>2.630</td>\n",
       "      <td>14.378</td>\n",
       "      <td>0.288</td>\n",
       "      <td>0.000</td>\n",
       "      <td>-0.165851</td>\n",
       "      <td>-0.211487</td>\n",
       "    </tr>\n",
       "    <tr>\n",
       "      <th>4</th>\n",
       "      <td>5</td>\n",
       "      <td>1</td>\n",
       "      <td>2.937</td>\n",
       "      <td>14.416</td>\n",
       "      <td>0.307</td>\n",
       "      <td>0.038</td>\n",
       "      <td>-0.164576</td>\n",
       "      <td>-0.209628</td>\n",
       "    </tr>\n",
       "    <tr>\n",
       "      <th>5</th>\n",
       "      <td>6</td>\n",
       "      <td>1</td>\n",
       "      <td>3.244</td>\n",
       "      <td>14.416</td>\n",
       "      <td>0.307</td>\n",
       "      <td>0.000</td>\n",
       "      <td>-0.164576</td>\n",
       "      <td>-0.211487</td>\n",
       "    </tr>\n",
       "    <tr>\n",
       "      <th>...</th>\n",
       "      <td>...</td>\n",
       "      <td>...</td>\n",
       "      <td>...</td>\n",
       "      <td>...</td>\n",
       "      <td>...</td>\n",
       "      <td>...</td>\n",
       "      <td>...</td>\n",
       "      <td>...</td>\n",
       "    </tr>\n",
       "    <tr>\n",
       "      <th>97315</th>\n",
       "      <td>16</td>\n",
       "      <td>5406</td>\n",
       "      <td>-27.961</td>\n",
       "      <td>18.169</td>\n",
       "      <td>-0.449</td>\n",
       "      <td>-0.180</td>\n",
       "      <td>-0.215277</td>\n",
       "      <td>-0.220293</td>\n",
       "    </tr>\n",
       "    <tr>\n",
       "      <th>97316</th>\n",
       "      <td>17</td>\n",
       "      <td>5406</td>\n",
       "      <td>-28.388</td>\n",
       "      <td>17.967</td>\n",
       "      <td>-0.427</td>\n",
       "      <td>-0.202</td>\n",
       "      <td>-0.213802</td>\n",
       "      <td>-0.221369</td>\n",
       "    </tr>\n",
       "    <tr>\n",
       "      <th>97317</th>\n",
       "      <td>18</td>\n",
       "      <td>5406</td>\n",
       "      <td>-28.747</td>\n",
       "      <td>17.787</td>\n",
       "      <td>-0.359</td>\n",
       "      <td>-0.180</td>\n",
       "      <td>-0.209241</td>\n",
       "      <td>-0.220293</td>\n",
       "    </tr>\n",
       "    <tr>\n",
       "      <th>97318</th>\n",
       "      <td>19</td>\n",
       "      <td>5406</td>\n",
       "      <td>-29.107</td>\n",
       "      <td>17.608</td>\n",
       "      <td>-0.360</td>\n",
       "      <td>-0.179</td>\n",
       "      <td>-0.209309</td>\n",
       "      <td>-0.220244</td>\n",
       "    </tr>\n",
       "    <tr>\n",
       "      <th>97319</th>\n",
       "      <td>20</td>\n",
       "      <td>5406</td>\n",
       "      <td>-29.354</td>\n",
       "      <td>17.428</td>\n",
       "      <td>-0.247</td>\n",
       "      <td>-0.180</td>\n",
       "      <td>-0.201730</td>\n",
       "      <td>-0.220293</td>\n",
       "    </tr>\n",
       "  </tbody>\n",
       "</table>\n",
       "<p>92454 rows × 8 columns</p>\n",
       "</div>"
      ],
      "text/plain": [
       "       Timestamp    ID       X       Y     dx     dy  dx_scaled  dy_scaled\n",
       "1              2     1   2.035  14.378  0.307  0.000  -0.164576  -0.211487\n",
       "2              3     1   2.342  14.378  0.307  0.000  -0.164576  -0.211487\n",
       "3              4     1   2.630  14.378  0.288  0.000  -0.165851  -0.211487\n",
       "4              5     1   2.937  14.416  0.307  0.038  -0.164576  -0.209628\n",
       "5              6     1   3.244  14.416  0.307  0.000  -0.164576  -0.211487\n",
       "...          ...   ...     ...     ...    ...    ...        ...        ...\n",
       "97315         16  5406 -27.961  18.169 -0.449 -0.180  -0.215277  -0.220293\n",
       "97316         17  5406 -28.388  17.967 -0.427 -0.202  -0.213802  -0.221369\n",
       "97317         18  5406 -28.747  17.787 -0.359 -0.180  -0.209241  -0.220293\n",
       "97318         19  5406 -29.107  17.608 -0.360 -0.179  -0.209309  -0.220244\n",
       "97319         20  5406 -29.354  17.428 -0.247 -0.180  -0.201730  -0.220293\n",
       "\n",
       "[92454 rows x 8 columns]"
      ]
     },
     "execution_count": 142,
     "metadata": {},
     "output_type": "execute_result"
    }
   ],
   "source": [
    "df_train"
   ]
  },
  {
   "cell_type": "code",
   "execution_count": null,
   "id": "18211aed-996c-4976-9e9b-7aed5a13055d",
   "metadata": {},
   "outputs": [],
   "source": [
    "# Um Output Wert zurück zu skalieren\n",
    "reverse = scaler.inverse_transform([[0.01795858, 0.32027986]])\n",
    "print(np.round(reverse, 3))"
   ]
  },
  {
   "cell_type": "markdown",
   "id": "73311a62-b49a-4387-be85-4db814ec2642",
   "metadata": {},
   "source": [
    "Nun werden die Trainingsdaten so vorbereitet, dass man sie in das RNN einfüttern kann. Dazu brauchen sie die das Format [samples, time steps, features]. Nachdem wir später eine rekursive Single-Step Prediction für den nächsten Delta-Wert (basierend auf den 7 vorhergehenden) durchführen werden, muss man die Daten zusätzlich noch weiter aufteilen, was auch den Vorteil hat, dass man mehr Trainingsdaten hat. Jeder Datenpunkt wird in weitere Datenpunkte aufgeteilt, bestehend aus 7 Werten und der 8e Wert ist dann die erwartete Prediction"
   ]
  },
  {
   "cell_type": "code",
   "execution_count": 143,
   "id": "308aad9d-4ceb-4f50-ab3f-4f31a8c16697",
   "metadata": {},
   "outputs": [],
   "source": [
    "sequence_length = 7 # Anhand von 7 dx und dy Werten (welche aus 8 Zeitschritten entstanden sind) sagen wir den nächsten Delta-Wert voraus\n",
    "\n",
    "def transform_data_for_rnn(df, sequence_length):\n",
    "    ids = np.array(df.ID.unique()) # alle (20 Timestep) Sequenzen aus dem dataframe holen, um die dann weiter aufzuteilen\n",
    "    x, y = [], []\n",
    "    for id in ids:\n",
    "        df_current = df[df.ID == id] # einen Datenpunkt mithilfe der ID herausgreifen und diesen dann in weitere Datenpunkte aufteilen\n",
    "        feature_data = np.array(df_current[['dx', 'dy']]) #dx und dy_scaled\n",
    "        for i in range(sequence_length, feature_data.shape[0]):\n",
    "            x.append(feature_data[i-sequence_length:i,:]) #contains sequence_length values 0-sequence_length * columsn\n",
    "            y.append(feature_data[i, :]) #contains the prediction values for validation (3rd column = Close),  for single-step prediction\n",
    "    x = np.array(x)\n",
    "    y = np.array(y)\n",
    "    return x, y\n",
    "\n",
    "x_train, y_train = transform_data_for_rnn(df_train, sequence_length)"
   ]
  },
  {
   "cell_type": "code",
   "execution_count": 144,
   "id": "4718b3fa-3d42-4caf-b9e4-6e575dce8a93",
   "metadata": {},
   "outputs": [
    {
     "name": "stdout",
     "output_type": "stream",
     "text": [
      "(58392, 7, 2) (58392, 2)\n"
     ]
    }
   ],
   "source": [
    "print(x_train.shape, y_train.shape)"
   ]
  },
  {
   "cell_type": "markdown",
   "id": "27504b54-38e6-4144-bebd-9d1385563ea5",
   "metadata": {},
   "source": [
    "# 2. Neuronales Netz erstellen und trainieren"
   ]
  },
  {
   "cell_type": "markdown",
   "id": "d5810981-7066-4682-85d8-48351bedc7bb",
   "metadata": {},
   "source": [
    "Zunächst erstellen wir unser NN mit all seinen Layern und Eigenschaften."
   ]
  },
  {
   "cell_type": "code",
   "execution_count": 145,
   "id": "4e20ce6c-8671-4280-9dd4-94418a1cebcb",
   "metadata": {},
   "outputs": [
    {
     "name": "stdout",
     "output_type": "stream",
     "text": [
      "Model: \"sequential_20\"\n",
      "_________________________________________________________________\n",
      "Layer (type)                 Output Shape              Param #   \n",
      "=================================================================\n",
      "lstm_21 (LSTM)               (None, 7, 14)             952       \n",
      "_________________________________________________________________\n",
      "lstm_22 (LSTM)               (None, 14)                1624      \n",
      "_________________________________________________________________\n",
      "dense_22 (Dense)             (None, 7)                 105       \n",
      "_________________________________________________________________\n",
      "dense_23 (Dense)             (None, 2)                 16        \n",
      "=================================================================\n",
      "Total params: 2,697\n",
      "Trainable params: 2,697\n",
      "Non-trainable params: 0\n",
      "_________________________________________________________________\n",
      "None\n"
     ]
    }
   ],
   "source": [
    "model = Sequential()\n",
    "# input shape = 7 (Timeseries) * 2 (features, dx, dy)\n",
    "model.add(LSTM(units = 14, dropout = 0.2, return_sequences = True, input_shape = (x_train.shape[1], x_train.shape[2]))) \n",
    "model.add(LSTM(units = 14, dropout = 0.2, return_sequences = False)) \n",
    "model.add(Dense(units = 7))\n",
    "model.add(Dense(units = 2)) # default activation function = 'linear'\n",
    "print(model.summary())"
   ]
  },
  {
   "cell_type": "markdown",
   "id": "96ea6a1b-519d-4fa7-b951-f10284afdaee",
   "metadata": {},
   "source": [
    "Jetzt wird das Model konfiguriert und mithilfe der Trainingsdaten trainiert. "
   ]
  },
  {
   "cell_type": "code",
   "execution_count": 146,
   "id": "87c9cc43-a15a-47e0-90f9-ab1591da94a6",
   "metadata": {},
   "outputs": [
    {
     "name": "stdout",
     "output_type": "stream",
     "text": [
      "Epoch 1/10\n",
      "3285/3285 [==============================] - 44s 12ms/step - loss: 0.0444 - val_loss: 0.0128\n",
      "Epoch 2/10\n",
      "3285/3285 [==============================] - 40s 12ms/step - loss: 0.0382 - val_loss: 0.0124\n",
      "Epoch 3/10\n",
      "3285/3285 [==============================] - 45s 14ms/step - loss: 0.0349 - val_loss: 0.0122\n",
      "Epoch 4/10\n",
      "3285/3285 [==============================] - 43s 13ms/step - loss: 0.0409 - val_loss: 0.0122\n",
      "Epoch 5/10\n",
      "3285/3285 [==============================] - 40s 12ms/step - loss: 0.0327 - val_loss: 0.0132\n",
      "Epoch 6/10\n",
      "3285/3285 [==============================] - 42s 13ms/step - loss: 0.0344 - val_loss: 0.0131\n",
      "Epoch 7/10\n",
      "3285/3285 [==============================] - 41s 12ms/step - loss: 0.0394 - val_loss: 0.0127\n",
      "Epoch 8/10\n",
      "3285/3285 [==============================] - 43s 13ms/step - loss: 0.0366 - val_loss: 0.0135\n",
      "Epoch 9/10\n",
      "3285/3285 [==============================] - 41s 13ms/step - loss: 0.0341 - val_loss: 0.0140\n",
      "Epoch 10/10\n",
      "3285/3285 [==============================] - 41s 12ms/step - loss: 0.0339 - val_loss: 0.0139\n"
     ]
    }
   ],
   "source": [
    "opt = adam_v2.Adam(learning_rate=0.001) # decay=lr/epochs)\n",
    "model.compile(loss = 'mse', optimizer = opt)#, metrics = [RootMeanSquaredError()])\n",
    "history = model.fit(x = x_train, y = y_train, epochs = 10, validation_split = 0.1, batch_size = 16, shuffle = True)"
   ]
  },
  {
   "cell_type": "markdown",
   "id": "e80d0446-913c-4fbb-aa71-53237e7b1444",
   "metadata": {},
   "source": [
    "Der Verlauf der Loss-Funktion sieht folgendermaßen aus..."
   ]
  },
  {
   "cell_type": "code",
   "execution_count": 99,
   "id": "27893986-f0c5-4638-851f-39db6ef36d78",
   "metadata": {},
   "outputs": [],
   "source": [
    "def plot_model_loss(history, epochs):\n",
    "    fig, ax = plt.subplots(figsize=(5, 5), sharex=True)\n",
    "    plt.plot(history.history[\"loss\"])\n",
    "    plt.plot(history.history[\"val_loss\"])\n",
    "    plt.title(\"Model loss\")\n",
    "    plt.ylabel(\"Loss\")\n",
    "    plt.xlabel(\"Epoch\")\n",
    "    ax.xaxis.set_major_locator(plt.MaxNLocator(epochs))\n",
    "    plt.legend([\"Training\", \"Validation\"], loc=\"best\")\n",
    "    plt.grid()\n",
    "    print(history.history.keys())\n",
    "    plt.show()\n",
    "\n",
    "def plot_model_metric(history, epochs):\n",
    "    fig, ax = plt.subplots(figsize=(5, 5), sharex=True)\n",
    "    plt.plot(history.history['root_mean_squared_error'])\n",
    "    plt.plot(history.history[\"val_root_mean_squared_error\"])\n",
    "    plt.title(\"Mean Squared Error\")\n",
    "    plt.ylabel(\"MSE\")\n",
    "    plt.xlabel(\"Epoch\")\n",
    "    ax.xaxis.set_major_locator(plt.MaxNLocator(epochs))\n",
    "    plt.legend([\"Training_MSE\", \"Validation_MSE\"], loc=\"best\")\n",
    "    plt.grid()\n",
    "    plt.show()"
   ]
  },
  {
   "cell_type": "code",
   "execution_count": 147,
   "id": "7d74b195-1e41-4d69-87e8-f6094af6dc37",
   "metadata": {},
   "outputs": [
    {
     "name": "stdout",
     "output_type": "stream",
     "text": [
      "dict_keys(['loss', 'val_loss'])\n"
     ]
    },
    {
     "data": {
      "image/png": "[encoded data removed]",
      "text/plain": [
       "<Figure size 360x360 with 1 Axes>"
      ]
     },
     "metadata": {
      "needs_background": "light"
     },
     "output_type": "display_data"
    }
   ],
   "source": [
    "plot_model_loss(history, 5)\n",
    "#plot_model_metric(history, 5)"
   ]
  },
  {
   "cell_type": "markdown",
   "id": "76308037-7091-458d-8091-7ab4c277ea3e",
   "metadata": {},
   "source": [
    "# 3. Vorhersage von zukünftigen Deltas/ Positionen"
   ]
  },
  {
   "cell_type": "code",
   "execution_count": 128,
   "id": "a7a6f57a-e1dc-4f3b-85ba-3e47c69cd6c2",
   "metadata": {},
   "outputs": [
    {
     "name": "stdout",
     "output_type": "stream",
     "text": [
      "[[[0.1 0.1]\n",
      "  [0.2 0.2]\n",
      "  [0.3 0.4]\n",
      "  [0.4 0.8]]]\n",
      "tf.Tensor([[13.849208 12.591302]], shape=(1, 2), dtype=float32)\n"
     ]
    }
   ],
   "source": [
    "#test_x = [[[0.1, 0.4], [0.3, 0.3], [0.5, 0.2], [0.7, 0.1]]]\n",
    "test_x = [[[0.1, 0.1], [0.2, 0.2], [0.3, 0.4], [0.4, 0.8]]]\n",
    "test_x = np.array(test_x)\n",
    "\n",
    "#test = np.array(a[0:1])\n",
    "#test_y = b[0]\n",
    "print(test_x)\n",
    "print(model(test_x))"
   ]
  },
  {
   "cell_type": "code",
   "execution_count": null,
   "id": "003a9210-3836-499b-b67e-e0ddb8db097d",
   "metadata": {},
   "outputs": [],
   "source": [
    "print(x_train.shape[1], x_train.shape[2])"
   ]
  },
  {
   "cell_type": "code",
   "execution_count": null,
   "id": "473de022-c523-4b80-b1be-592138941037",
   "metadata": {},
   "outputs": [],
   "source": []
  },
  {
   "cell_type": "code",
   "execution_count": null,
   "id": "d38a4d0b-cafe-419d-85ea-06852c456f1e",
   "metadata": {},
   "outputs": [],
   "source": [
    "predicted_steps = 12"
   ]
  },
  {
   "cell_type": "code",
   "execution_count": null,
   "id": "b384df3f-40bf-4681-bb04-4fdff5923e82",
   "metadata": {},
   "outputs": [],
   "source": []
  },
  {
   "cell_type": "code",
   "execution_count": null,
   "id": "b9349b2a-3534-42bf-8f63-5520dbc3fd12",
   "metadata": {},
   "outputs": [],
   "source": []
  },
  {
   "cell_type": "markdown",
   "id": "cf683565-ae60-46cd-ac3c-a576d5ea1628",
   "metadata": {},
   "source": [
    "# Plotting"
   ]
  },
  {
   "cell_type": "code",
   "execution_count": null,
   "id": "7111e69f-06db-4a48-8211-92bbcc9b4aff",
   "metadata": {},
   "outputs": [],
   "source": [
    "def plot_pedestrian_trajectory(x_observed, y_observed, x_pred, y_pred, x_real = np.array([]), y_real = np.array([])):\n",
    "    # Letzten Wert der beobachteten Position an das Array der vorhergesagten Positionen anhängen, sodass im Plot eine zusammenhängende Trajektorie dargestellt werden kann\n",
    "    x_pred = np.insert(x_pred, 0, x_observed[-1], axis=0)\n",
    "    y_pred = np.insert(y_pred, 0, y_observed[-1], axis=0)\n",
    "    if x_real.size != 0 and y_real.size != 0:\n",
    "        x_real = np.insert(x_real, 0, x_observed[-1], axis=0)\n",
    "        y_real = np.insert(y_real, 0, y_observed[-1], axis=0)\n",
    "        plt.plot(x_real, y_real, label = \"Real future positions\", color='green', linestyle='dotted', linewidth = 1,\n",
    "             marker='o', markerfacecolor='green', markersize=5)\n",
    "    # Plotten der vorhergesagten Positionen\n",
    "    plt.plot(x_pred, y_pred, label = \"Predicted future positions\", color='red', linestyle='dotted', linewidth = 1,\n",
    "             marker='o', markerfacecolor='red', markersize=5)\n",
    "    # Plotten der beobachteten Positionen\n",
    "    plt.plot(x_observed, y_observed, label = \"Observed positions\", color='blue', linestyle='dotted', linewidth = 1,\n",
    "             marker='o', markerfacecolor='blue', markersize=5)\n",
    "    plt.legend(loc='best')\n",
    "    plt.xlabel('x - coordinate')\n",
    "    plt.ylabel('y - coordinate')\n",
    "    plt.title('Trajectorie of a single pedestrian')\n",
    "    plt.show()"
   ]
  },
  {
   "cell_type": "code",
   "execution_count": null,
   "id": "8c19ba20-0b32-4dae-aefe-672493b241cb",
   "metadata": {},
   "outputs": [],
   "source": [
    "# Beispiel-Plot\n",
    "gegeben_x = np.array([1,2,3,4])\n",
    "gegeben_y = np.array([1,1,1,1])\n",
    "pred_x = np.array([5,6,7,8,7,6])\n",
    "pred_y = np.array([1,1,1,1,2,2])\n",
    "real_x = np.array([5,6,7,7])\n",
    "real_y = np.array([2,3,4,4])\n",
    "plot_pedestrian_trajectory(gegeben_x, gegeben_y, pred_x, pred_y, x_real = real_x, y_real = real_y)"
   ]
  },
  {
   "cell_type": "code",
   "execution_count": null,
   "id": "b9f94cf9-08f8-43d6-9537-e4906cd9f8d9",
   "metadata": {},
   "outputs": [],
   "source": []
  },
  {
   "cell_type": "code",
   "execution_count": null,
   "id": "08962edb-48c8-4cce-bdb6-c788f8e98857",
   "metadata": {},
   "outputs": [],
   "source": []
  },
  {
   "cell_type": "code",
   "execution_count": null,
   "id": "195faea0-58ab-48b3-bcde-5674d6f54c7f",
   "metadata": {},
   "outputs": [],
   "source": []
  },
  {
   "cell_type": "code",
   "execution_count": null,
   "id": "d7d4fde2-df9d-461c-a0f2-2ffc67522f8e",
   "metadata": {},
   "outputs": [],
   "source": []
  },
  {
   "cell_type": "code",
   "execution_count": null,
   "id": "661466df-6279-405b-9744-4359ebbb3350",
   "metadata": {},
   "outputs": [],
   "source": []
  },
  {
   "cell_type": "code",
   "execution_count": null,
   "id": "8976ab43-3bb2-4144-ac4a-7775b8dc64e6",
   "metadata": {},
   "outputs": [],
   "source": []
  },
  {
   "cell_type": "code",
   "execution_count": null,
   "id": "664ebc66-d860-4e9d-b4f8-fdf0d22e4041",
   "metadata": {},
   "outputs": [],
   "source": []
  },
  {
   "cell_type": "code",
   "execution_count": null,
   "id": "f5e1e7b8-92a6-4583-a709-7e00ccdeb731",
   "metadata": {},
   "outputs": [],
   "source": []
  },
  {
   "cell_type": "code",
   "execution_count": null,
   "id": "1da3e140-a33e-4917-a807-d59ec64ac0be",
   "metadata": {},
   "outputs": [],
   "source": []
  },
  {
   "cell_type": "code",
   "execution_count": null,
   "id": "f9004e7d-f9cb-49f1-85fb-469f53605050",
   "metadata": {},
   "outputs": [],
   "source": []
  },
  {
   "cell_type": "markdown",
   "id": "47613e69-f6f3-4d34-bb80-9e17cc9485ea",
   "metadata": {},
   "source": [
    "# Normalize and standardize data\n",
    "You can normalize your dataset using the scikit-learn object MinMaxScaler.\n",
    "\n",
    "Good practice usage with the MinMaxScaler and other rescaling techniques is as follows:\n",
    "\n",
    "Fit the scaler using available training data. For normalization, this means the training data will be used to estimate the minimum and maximum observable values. This is done by calling the fit() function,\n",
    "Apply the scale to training data. This means you can use the normalized data to train your model. This is done by calling the transform() function\n",
    "Apply the scale to data going forward. This means you can prepare new data in the future on which you want to make predictions.\n",
    "If needed, the transform can be inverted. This is useful for converting predictions back into their original scale for reporting or plotting. This can be done by calling the inverse_transform() function.\n",
    "https://machinelearningmastery.com/normalize-standardize-time-series-data-python/"
   ]
  },
  {
   "cell_type": "markdown",
   "id": "f3ec596d-3b69-407d-a076-e1121f4564af",
   "metadata": {},
   "source": [
    "# k-Fold Cross Validation with validation set\n",
    "\n",
    "In general, when you are doing model selection and testing, your data is divided into three parts, training set, validation set and testing set. You use your training set to train different models, estimate the performance on your validation set, then select the model with optimal performance and test it on your testing set.\n",
    "\n",
    "On the other hand, if you are using K-fold cross-validation to estimate the performance of a model, your data is then divided into K folds, you loop through the K folds and each time use one fold as testing(or validation) set and use the rest (K-1) folds as training set. Then you average across all folds to get the estimated testing performance of your model. This is what the Wikipedia page is referring to.\n",
    "\n",
    "But keep in mind that this is for testing a specific model, if you have multiple candidate models and want to do model-selection as well, you have to select a model only with your training set to avoid this subtle circular logic fallacy. So you further divide your (K-1) folds 'training data' into two parts, one for training and one for validation. This means you do an extra 'cross-validation' first to select the optimal model within the (K-1) folds, and then you test this optimal model on your testing fold. In other words, you are doing a two-level cross-validation, one is the K-fold cross-validation in general, and within each cross-validation loop, there is an extra (K-1)-fold cross-validation for model selection. Then you have what you stated in your question, 'Of the k subsamples one subsample is retained as the validation data, one other subsample is retained as the test data, and k-2 subsamples are used as training data.'\n",
    "https://stats.stackexchange.com/questions/90288/in-k-fold-cross-validation-does-the-training-subsample-include-test-set\n",
    "\n",
    "## Why separate test and validation sets?\n",
    "The error rate estimate of the final model on validation data will be biased (smaller than the true error rate) since the validation set is used to select the final model After assessing the final model on the test set, YOU MUST NOT tune the model any further!\n",
    "https://stats.stackexchange.com/questions/19048/what-is-the-difference-between-test-set-and-validation-set"
   ]
  },
  {
   "cell_type": "markdown",
   "id": "fbe78366-4635-4f1d-9a8d-c7500616e4b1",
   "metadata": {},
   "source": [
    "# MeanAbsoluteError und MeanSquaredError Test\n",
    "https://keras.io/api/losses/regression_losses/"
   ]
  },
  {
   "cell_type": "code",
   "execution_count": null,
   "id": "670cdfba-56ad-48be-97f8-760e49d9b046",
   "metadata": {},
   "outputs": [],
   "source": [
    "from tensorflow.keras.losses import MeanAbsoluteError, MeanSquaredError\n",
    "y_true = [[0.5, 2]]\n",
    "y_pred = [[0.5, 1.5]]\n",
    "# Using 'auto'/'sum_over_batch_size' reduction type.\n",
    "mae = MeanAbsoluteError()\n",
    "print(mae(y_true, y_pred).numpy())"
   ]
  },
  {
   "cell_type": "code",
   "execution_count": null,
   "id": "755d36bf-bb1e-4dd0-8a64-973e71b88b66",
   "metadata": {},
   "outputs": [],
   "source": []
  }
 ],
 "metadata": {
  "kernelspec": {
   "display_name": "Python 3 (ipykernel)",
   "language": "python",
   "name": "python3"
  },
  "language_info": {
   "codemirror_mode": {
    "name": "ipython",
    "version": 3
   },
   "file_extension": ".py",
   "mimetype": "text/x-python",
   "name": "python",
   "nbconvert_exporter": "python",
   "pygments_lexer": "ipython3",
   "version": "3.9.4"
  }
 },
 "nbformat": 4,
 "nbformat_minor": 5
}
