{
 "cells": [
  {
   "cell_type": "code",
   "execution_count": 16,
   "id": "b796caf0",
   "metadata": {},
   "outputs": [],
   "source": [
    "# Methode zum Plotten des Model-Losses\n",
    "def plot_model_loss(history, epochs):\n",
    "    fig, ax = plt.subplots(figsize=(5, 5), sharex=True)\n",
    "    loss = history.history[\"loss\"]\n",
    "    loss = loss[1:]\n",
    "    val_loss = history.history[\"val_loss\"]\n",
    "    val_loss = val_loss[1:]\n",
    "    plt.plot(loss)\n",
    "    plt.plot(val_loss)\n",
    "    plt.title(\"Modell Verlust\")\n",
    "    plt.ylabel(\"Verlust\")\n",
    "    plt.xlabel(\"Epochen\")\n",
    "    ax.xaxis.set_major_locator(plt.MaxNLocator(epochs))\n",
    "    plt.legend([\"Training\", \"Validierung\"], loc=\"best\")\n",
    "    plt.grid()\n",
    "    # plt.savefig('Plots/model_loss.png') # Plot als PNG speichern\n",
    "    plt.show()"
   ]
  },
  {
   "cell_type": "code",
   "execution_count": null,
   "id": "50abe644",
   "metadata": {},
   "outputs": [],
   "source": [
    "# Methode zum Plotten des Verlaufs der Performance des Models\n",
    "def plot_model_metric(history, epochs):\n",
    "    fig, ax = plt.subplots(figsize=(5, 5), sharex=True)\n",
    "    plt.plot(history.history['mae'])\n",
    "    plt.plot(history.history[\"val_mae\"])\n",
    "    plt.title(\"Mean Absolute Error\")\n",
    "    plt.ylabel(\"MAE\")\n",
    "    plt.xlabel(\"Epochen\")\n",
    "    ax.xaxis.set_major_locator(plt.MaxNLocator(epochs))\n",
    "    plt.legend([\"Training\", \"Validierung\"], loc=\"best\")\n",
    "    plt.grid()\n",
    "    # plt.savefig('Plots/model_metric.png') # Plot als PNG speichern\n",
    "    plt.show()"
   ]
  },
  {
   "cell_type": "code",
   "execution_count": null,
   "id": "9e9ffc0a",
   "metadata": {},
   "outputs": [],
   "source": [
    "# Methode zum Plotten der Trajektorie eines Fußgängers\n",
    "# geplottet werden können die gegebenen Positionen, die vorhergesagten, sowie die ground trouth der vorhergesagten Positionen\n",
    "# die übergebenen Werte sollen eindimensionale Arrays/ Listen sein\n",
    "def plot_pedestrian_trajectory(x_observed = np.array([]), y_observed = np.array([]), x_pred = np.array([]), y_pred = np.array([]), x_real = np.array([]), y_real = np.array([])):\n",
    "    # Letzten Wert der beobachteten Position an das Array der vorhergesagten Positionen anhängen, sodass im Plot eine zusammenhängende Trajektorie dargestellt werden kann\n",
    "    x_pred = np.insert(x_pred, 0, x_observed[-1], axis=0)\n",
    "    y_pred = np.insert(y_pred, 0, y_observed[-1], axis=0)\n",
    "    if len(x_real) != 0 and len(y_real) != 0:\n",
    "        x_real = np.insert(x_real, 0, x_observed[-1], axis=0)\n",
    "        y_real = np.insert(y_real, 0, y_observed[-1], axis=0)\n",
    "        plt.plot(x_real, y_real, label = \"Tatsächliche Zukunftspositionen\", color='green', linestyle='dotted', linewidth = 1,\n",
    "             marker='o', markerfacecolor='green', markersize=5)\n",
    "    # Plotten der vorhergesagten Positionen\n",
    "    plt.plot(x_pred, y_pred, label = \"Vorhergesagte Zukunftspositionen\", color='red', linestyle='dotted', linewidth = 1,\n",
    "             marker='o', markerfacecolor='red', markersize=5)\n",
    "    # Plotten der beobachteten Positionen\n",
    "    plt.plot(x_observed, y_observed, label = \"Beobachtete Positionen\", color='blue', linestyle='dotted', linewidth = 1,\n",
    "             marker='o', markerfacecolor='blue', markersize=5)\n",
    "    plt.legend(loc='best')\n",
    "    plt.xlabel('x - Koordinate (in m)')\n",
    "    plt.ylabel('y - Koordinate (in m)')\n",
    "    plt.title('Trajektorie eines einzelnen Fußgängers')\n",
    "    plt.grid()\n",
    "    plt.show()"
   ]
  },
  {
   "cell_type": "code",
   "execution_count": null,
   "id": "28e33b47",
   "metadata": {},
   "outputs": [],
   "source": [
    "# Methode zum Plotten des Displacement Errors pro Zeitschritt\n",
    "def plot_displacement_errors(x, y):\n",
    "    plt.plot(x, y, color='red', linestyle='dotted', linewidth = 1,\n",
    "             marker='x', markerfacecolor='red', markersize=5)\n",
    "    plt.title('Displacement Error pro Zeitschritt')\n",
    "    plt.xlabel('Zeitschritte')\n",
    "    plt.ylabel('Displacement Error')\n",
    "    plt.grid()\n",
    "    # plt.savefig('Plots/displacement_error_per_timestep.png') # Plot als PNG speichern\n",
    "    plt.show()"
   ]
  }
 ],
 "metadata": {
  "kernelspec": {
   "display_name": "Python 3 (ipykernel)",
   "language": "python",
   "name": "python3"
  },
  "language_info": {
   "codemirror_mode": {
    "name": "ipython",
    "version": 3
   },
   "file_extension": ".py",
   "mimetype": "text/x-python",
   "name": "python",
   "nbconvert_exporter": "python",
   "pygments_lexer": "ipython3",
   "version": "3.9.4"
  }
 },
 "nbformat": 4,
 "nbformat_minor": 5
}
