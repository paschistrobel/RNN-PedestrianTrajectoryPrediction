{
 "cells": [
  {
   "cell_type": "code",
   "execution_count": 16,
   "id": "98a995f1-a6f3-4fdb-8fe5-885a6cdd0342",
   "metadata": {},
   "outputs": [],
   "source": [
    "# Methode zum Plotten des Model-Losses\n",
    "def plot_model_loss(history, epochs):\n",
    "    fig, ax = plt.subplots(figsize=(5, 5), sharex=True)\n",
    "    plt.plot(history.history[\"loss\"])\n",
    "    plt.plot(history.history[\"val_loss\"])\n",
    "    plt.title(\"Model loss\")\n",
    "    plt.ylabel(\"Loss\")\n",
    "    plt.xlabel(\"Epoch\")\n",
    "    ax.xaxis.set_major_locator(plt.MaxNLocator(epochs))\n",
    "    plt.legend([\"Training\", \"Validation\"], loc=\"best\")\n",
    "    plt.grid()\n",
    "    plt.show()"
   ]
  },
  {
   "cell_type": "code",
   "execution_count": null,
   "id": "66fddc3c-90e2-4017-abf2-3d8e9f951ba2",
   "metadata": {},
   "outputs": [],
   "source": [
    "# Methode zum Plotten des Verlaufs der Performance des Models\n",
    "def plot_model_metric(history, epochs):\n",
    "    print(history.history.keys())\n",
    "    fig, ax = plt.subplots(figsize=(5, 5), sharex=True)\n",
    "    plt.plot(history.history['mae'])\n",
    "    plt.plot(history.history[\"val_mae\"])\n",
    "    plt.title(\"Mean Absolute Error\")\n",
    "    plt.ylabel(\"MAE\")\n",
    "    plt.xlabel(\"Epoch\")\n",
    "    ax.xaxis.set_major_locator(plt.MaxNLocator(epochs))\n",
    "    plt.legend([\"Training_MAE\", \"Validation_MAE\"], loc=\"best\")\n",
    "    plt.grid()\n",
    "    plt.show()"
   ]
  },
  {
   "cell_type": "code",
   "execution_count": null,
   "id": "c1d91650-7934-4021-ad94-a3bf562dee0b",
   "metadata": {},
   "outputs": [],
   "source": [
    "# Methode zum Plotten der Trajektorie eines Fußgängers\n",
    "# geplottet werden können die gegebenen Positionen, die vorhergesagten, sowie die ground trouth der vorhergesagten Positionen\n",
    "# die übergebenen Werte sollen eindimensionale Arrays/ Listen sein\n",
    "def plot_pedestrian_trajectory(x_observed = np.array([]), y_observed = np.array([]), x_pred = np.array([]), y_pred = np.array([]), x_real = np.array([]), y_real = np.array([])):\n",
    "    # Letzten Wert der beobachteten Position an das Array der vorhergesagten Positionen anhängen, sodass im Plot eine zusammenhängende Trajektorie dargestellt werden kann\n",
    "    x_pred = np.insert(x_pred, 0, x_observed[-1], axis=0)\n",
    "    y_pred = np.insert(y_pred, 0, y_observed[-1], axis=0)\n",
    "    if len(x_real) != 0 and len(y_real) != 0:\n",
    "        x_real = np.insert(x_real, 0, x_observed[-1], axis=0)\n",
    "        y_real = np.insert(y_real, 0, y_observed[-1], axis=0)\n",
    "        plt.plot(x_real, y_real, label = \"Real future positions\", color='green', linestyle='dotted', linewidth = 1,\n",
    "             marker='o', markerfacecolor='green', markersize=5)\n",
    "    # Plotten der vorhergesagten Positionen\n",
    "    plt.plot(x_pred, y_pred, label = \"Predicted future positions\", color='red', linestyle='dotted', linewidth = 1,\n",
    "             marker='o', markerfacecolor='red', markersize=5)\n",
    "    # Plotten der beobachteten Positionen\n",
    "    plt.plot(x_observed, y_observed, label = \"Observed positions\", color='blue', linestyle='dotted', linewidth = 1,\n",
    "             marker='o', markerfacecolor='blue', markersize=5)\n",
    "    plt.legend(loc='best')\n",
    "    plt.xlabel('x - coordinate')\n",
    "    plt.ylabel('y - coordinate')\n",
    "    plt.title('Trajectorie of a single pedestrian')\n",
    "    plt.grid()\n",
    "    plt.show()"
   ]
  },
  {
   "cell_type": "code",
   "execution_count": null,
   "id": "9577f718-0647-4eb8-8462-2343b45b8827",
   "metadata": {},
   "outputs": [],
   "source": [
    "def plot_displacement_errors(x, y):\n",
    "    plt.plot(x, y, color='red', linestyle='dotted', linewidth = 1,\n",
    "             marker='x', markerfacecolor='red', markersize=5)\n",
    "    plt.title('Displacement Error for each timestep')\n",
    "    plt.xlabel('Timestep')\n",
    "    plt.ylabel('Displacement Error')\n",
    "    plt.grid()\n",
    "    plt.show()"
   ]
  }
 ],
 "metadata": {
  "kernelspec": {
   "display_name": "Python 3 (ipykernel)",
   "language": "python",
   "name": "python3"
  },
  "language_info": {
   "codemirror_mode": {
    "name": "ipython",
    "version": 3
   },
   "file_extension": ".py",
   "mimetype": "text/x-python",
   "name": "python",
   "nbconvert_exporter": "python",
   "pygments_lexer": "ipython3",
   "version": "3.9.4"
  }
 },
 "nbformat": 4,
 "nbformat_minor": 5
}
